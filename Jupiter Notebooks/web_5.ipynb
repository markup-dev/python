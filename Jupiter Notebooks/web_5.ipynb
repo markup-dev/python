{
 "cells": [
  {
   "cell_type": "markdown",
   "id": "e6fa05cb-1096-4d14-bd06-e48a0182492e",
   "metadata": {},
   "source": [
    "# Модуль №5. Классы и объекты."
   ]
  },
  {
   "cell_type": "markdown",
   "id": "9fda0e8a-fbd3-4284-9a4c-264f965d87b9",
   "metadata": {},
   "source": [
    "### Что такое класс?"
   ]
  },
  {
   "cell_type": "markdown",
   "id": "d551b767-9a02-4f45-b487-0131a1519af8",
   "metadata": {},
   "source": [
    "**Класс в Python** — это основной элемент объектно-ориентированного программирования (ООП), который позволяет объединять данные (атрибуты) и функции (методы) в единую структуру. Это обеспечивает удобную организацию кода и возможность его повторного использования. Класс представляет собой шаблон или чертёж, который определяет, как будут выглядеть и вести себя объекты этого типа. "
   ]
  },
  {
   "cell_type": "markdown",
   "id": "3806f466-689a-4b57-8d44-36d4879af080",
   "metadata": {},
   "source": [
    "### Синтаксис написания классов "
   ]
  },
  {
   "cell_type": "code",
   "execution_count": 1,
   "id": "a5c6080e-ce3f-4090-bb58-9d3f73f7c477",
   "metadata": {},
   "outputs": [
    {
     "name": "stdout",
     "output_type": "stream",
     "text": [
      "<__main__.Student object at 0x1085f9e90>\n"
     ]
    }
   ],
   "source": [
    "class Student: # <-- скобки () можно писать или не писать\n",
    "    pass # <-- даже если тут стоит заглушка, класс все равно создается \n",
    "\n",
    "student_sasha = Student() # <-- student_sasha это ЭКЗМЕМПЛЯР КЛАССА \n",
    "print(student_sasha)"
   ]
  },
  {
   "cell_type": "code",
   "execution_count": 27,
   "id": "be9cf52b-277b-45d7-804e-a0b6088f0cd0",
   "metadata": {},
   "outputs": [
    {
     "name": "stdout",
     "output_type": "stream",
     "text": [
      "<__main__.Student object at 0x109329110>\n"
     ]
    }
   ],
   "source": [
    "class Student: \n",
    "    ... # <-- второй способ сделать заглушку\n",
    "\n",
    "student_sasha = Student() \n",
    "print(student_sasha)"
   ]
  },
  {
   "cell_type": "markdown",
   "id": "89336703-35b9-42c0-bbdf-02fdaf366a8d",
   "metadata": {},
   "source": [
    " "
   ]
  },
  {
   "cell_type": "markdown",
   "id": "ef446c9d-7962-4a8d-9593-d44eefd173f2",
   "metadata": {},
   "source": [
    "### Класс - это новый тип данных"
   ]
  },
  {
   "cell_type": "code",
   "execution_count": 2,
   "id": "a496a6f3-a2ee-43f4-9828-41b9b72f9c36",
   "metadata": {},
   "outputs": [
    {
     "name": "stdout",
     "output_type": "stream",
     "text": [
      "Экземпляр класса: <__main__.Student object at 0x10862c8d0>\n",
      "Тип экземпляра класса: <class '__main__.Student'>\n",
      "Тип класса Student: <class 'type'>\n",
      "А если напишем скобочки? <class '__main__.Student'>\n"
     ]
    }
   ],
   "source": [
    "class Student(): # <-- скобки () ок \n",
    "    pass \n",
    "\n",
    "student_sasha = Student() \n",
    "print('Экземпляр класса:', student_sasha)\n",
    "print('Тип экземпляра класса:', type(student_sasha))\n",
    "print('Тип класса Student:', type(Student))\n",
    "print('А если напишем скобочки?', type(Student())) # <-- превращается в экземпляр класса "
   ]
  },
  {
   "cell_type": "markdown",
   "id": "4e63cb3b-c536-4e54-98a3-61eac5af86f9",
   "metadata": {},
   "source": [
    "### Что такое _ _ init _ _ и зачем он нужен? "
   ]
  },
  {
   "cell_type": "code",
   "execution_count": 3,
   "id": "8a02c98a-ebbd-4a60-b47f-f2cdead29dd7",
   "metadata": {},
   "outputs": [
    {
     "name": "stdout",
     "output_type": "stream",
     "text": [
      "student\n"
     ]
    }
   ],
   "source": [
    "class Student: \n",
    "    def __init__(self): # <-- это магический метод (конструктор класса) \n",
    "                        # <-- по сути это обычная функция, просто на первом месте должен стоять self \n",
    "        self.status = 'student' # <-- это АТРИБУТ (= переменная в классе) \n",
    "\n",
    "student_sasha = Student() \n",
    "print(student_sasha.status)"
   ]
  },
  {
   "cell_type": "markdown",
   "id": "3f1afa94-810c-4794-8c8d-3302eaad2458",
   "metadata": {},
   "source": [
    "### Что такое self ?"
   ]
  },
  {
   "cell_type": "markdown",
   "id": "45d0b17b-e381-4879-8372-56627ef1e1c5",
   "metadata": {},
   "source": [
    "**self**  - указывает на самого себя (Я - студент и у МЕНЯ есть характеристики МОИ характеристики)"
   ]
  },
  {
   "cell_type": "code",
   "execution_count": 4,
   "id": "006260ef-db62-4206-a09d-5f9380813360",
   "metadata": {},
   "outputs": [
    {
     "name": "stdout",
     "output_type": "stream",
     "text": [
      "student\n"
     ]
    }
   ],
   "source": [
    "class Student: \n",
    "    def __init__(self): # <-- self это НЕ ключевое слово (будет работать и с not_self) \n",
    "                        # <-- по сути это обычная функция, просто на первом месте стоит self \n",
    "        self.status = 'student' \n",
    "\n",
    "student_sasha = Student() \n",
    "print(student_sasha.status)"
   ]
  },
  {
   "cell_type": "markdown",
   "id": "d615a9a9-b1f2-4e64-aa92-f0e1a57d268b",
   "metadata": {},
   "source": [
    "### Атрибуты (= характеристики конкретного экземпляра) "
   ]
  },
  {
   "cell_type": "markdown",
   "id": "137bf258-c3d0-4533-a2dd-c896bcfea11a",
   "metadata": {},
   "source": [
    "    0"
   ]
  },
  {
   "cell_type": "code",
   "execution_count": 5,
   "id": "6d859913-614e-4d32-ae8b-14c190fe4f8b",
   "metadata": {},
   "outputs": [
    {
     "name": "stdout",
     "output_type": "stream",
     "text": [
      "student\n"
     ]
    }
   ],
   "source": [
    "class Student: \n",
    "    def __init__(self): \n",
    "        self.status = 'student' \n",
    "\n",
    "student_sasha = Student() \n",
    "print(student_sasha.status) # <-- вот так мы получает атрибут экземпляра (через точку и без скобок) "
   ]
  },
  {
   "cell_type": "markdown",
   "id": "221f10fc-6f09-49b9-ad41-d57788ceecaf",
   "metadata": {},
   "source": [
    "    Можем задавать атрибуты экземпляру после его создания "
   ]
  },
  {
   "cell_type": "code",
   "execution_count": 6,
   "id": "d020fd38-e92b-4b92-ad8f-d449921f4dff",
   "metadata": {},
   "outputs": [
    {
     "name": "stdout",
     "output_type": "stream",
     "text": [
      "student\n",
      "F\n"
     ]
    }
   ],
   "source": [
    "class Student: \n",
    "    def __init__(self): \n",
    "        self.status = 'student' \n",
    "\n",
    "student_sasha = Student() \n",
    "print(student_sasha.status)\n",
    "\n",
    "student_sasha.gender = 'F'\n",
    "print(student_sasha.gender)"
   ]
  },
  {
   "cell_type": "markdown",
   "id": "0e272851-b1ea-405a-a72f-c6270f06b61b",
   "metadata": {},
   "source": [
    "    1"
   ]
  },
  {
   "cell_type": "code",
   "execution_count": 7,
   "id": "b853551a-62da-45f5-95be-ab8e9983b1d1",
   "metadata": {},
   "outputs": [],
   "source": [
    "class Student: \n",
    "    def __init__(self, name): # <-- мы не сможем создать экземпляр класса без name \n",
    "        self.status = 'student'\n",
    "        self.name = name\n",
    "\n",
    "# student_sasha = Student() # <-- мы не сможем создать экземпляр класса без name \n",
    "\n",
    "# student_sasha = Student(name='Александра') \n",
    "# print('Мой статус:', student_sasha.status)\n",
    "# print('Мое имя:', student_sasha.name)\n",
    "\n",
    "# student_sasha = Student(nam='Александра') # <-- нужно правильно указывать название параметра \n",
    "\n",
    "# student_sasha = Student('Александра') # <-- можно передавать как позиционный аргумент (без name=)\n",
    "# print('Мой статус:', student_sasha.status)\n",
    "# print('Мое имя:', student_sasha.name)\n",
    "\n",
    "# student_sasha = Student('Александра', 26) # <-- нельзя передавать больше аргументов, чем требуется "
   ]
  },
  {
   "cell_type": "markdown",
   "id": "1f4e940e-ad0b-427a-bdee-0c502903b7d0",
   "metadata": {},
   "source": [
    "    2"
   ]
  },
  {
   "cell_type": "code",
   "execution_count": 8,
   "id": "06d4a1f6-2e91-4a7e-a6ea-821af3cceca2",
   "metadata": {},
   "outputs": [
    {
     "name": "stdout",
     "output_type": "stream",
     "text": [
      "Мой статус: student\n"
     ]
    },
    {
     "ename": "AttributeError",
     "evalue": "'Student' object has no attribute 'name'",
     "output_type": "error",
     "traceback": [
      "\u001b[0;31m---------------------------------------------------------------------------\u001b[0m",
      "\u001b[0;31mAttributeError\u001b[0m                            Traceback (most recent call last)",
      "Cell \u001b[0;32mIn[8], line 20\u001b[0m\n\u001b[1;32m      7\u001b[0m \u001b[38;5;66;03m# правильные варианты \u001b[39;00m\n\u001b[1;32m      8\u001b[0m \u001b[38;5;66;03m# student_sasha = Student('Александра', 26)\u001b[39;00m\n\u001b[1;32m      9\u001b[0m \u001b[38;5;66;03m# student_sasha = Student(name='Александра', age=26)\u001b[39;00m\n\u001b[0;32m   (...)\u001b[0m\n\u001b[1;32m     16\u001b[0m \u001b[38;5;66;03m# positional argument follows keyword argument\u001b[39;00m\n\u001b[1;32m     17\u001b[0m \u001b[38;5;66;03m# student_sasha = Student(name='Александра', 26) \u001b[39;00m\n\u001b[1;32m     19\u001b[0m \u001b[38;5;28mprint\u001b[39m(\u001b[38;5;124m'\u001b[39m\u001b[38;5;124mМой статус:\u001b[39m\u001b[38;5;124m'\u001b[39m, student_sasha\u001b[38;5;241m.\u001b[39mstatus)\n\u001b[0;32m---> 20\u001b[0m \u001b[38;5;28mprint\u001b[39m(\u001b[38;5;124m'\u001b[39m\u001b[38;5;124mМое имя:\u001b[39m\u001b[38;5;124m'\u001b[39m, student_sasha\u001b[38;5;241m.\u001b[39mname)\n",
      "\u001b[0;31mAttributeError\u001b[0m: 'Student' object has no attribute 'name'"
     ]
    }
   ],
   "source": [
    "class Student: \n",
    "    def __init__(self, name, age): # <-- правильный пример \n",
    "        self.status = 'student'\n",
    "        self.name = name\n",
    "        self.age = age\n",
    "\n",
    "# правильные варианты \n",
    "# student_sasha = Student('Александра', 26)\n",
    "# student_sasha = Student(name='Александра', age=26)\n",
    "# student_sasha = Student(age=26, name='Александра')\n",
    "# student_sasha = Student('Александра', age=26)\n",
    "\n",
    "# ошибка, так как он на 1 место хочет name, а потом мы ему опять передаем name\n",
    "# student_sasha = Student(26, name='Александра')  \n",
    "\n",
    "# positional argument follows keyword argument\n",
    "# student_sasha = Student(name='Александра', 26) \n",
    "\n",
    "print('Мой статус:', student_sasha.status)\n",
    "print('Мое имя:', student_sasha.name)"
   ]
  },
  {
   "cell_type": "markdown",
   "id": "5e4b5428-6493-44c4-ae15-4d3cdcf29369",
   "metadata": {},
   "source": [
    "    3"
   ]
  },
  {
   "cell_type": "code",
   "execution_count": 9,
   "id": "a0f9f422-95cb-4a5e-bcaa-709cf625a381",
   "metadata": {},
   "outputs": [
    {
     "name": "stdout",
     "output_type": "stream",
     "text": [
      "Мой статус: student\n",
      "Мое имя: 26\n",
      "Мой возраст: Александра\n"
     ]
    }
   ],
   "source": [
    "class Student: \n",
    "    def __init__(self, name, age): # <-- мы все перепутали((((  \n",
    "        self.status = 'student'\n",
    "        self.age = name\n",
    "        self.name = age\n",
    "\n",
    "student_sasha = Student(name='Александра', age=26)\n",
    "print('Мой статус:', student_sasha.status)\n",
    "print('Мое имя:', student_sasha.name)\n",
    "print('Мой возраст:', student_sasha.age)"
   ]
  },
  {
   "cell_type": "markdown",
   "id": "a3d8e05e-f581-467f-9af0-e566aa0bbdcf",
   "metadata": {},
   "source": [
    "    4"
   ]
  },
  {
   "cell_type": "code",
   "execution_count": 10,
   "id": "bd0e71e2-c57d-40d1-b0a5-b6390a0f02f8",
   "metadata": {},
   "outputs": [
    {
     "name": "stdout",
     "output_type": "stream",
     "text": [
      "Мой статус: student\n"
     ]
    },
    {
     "ename": "AttributeError",
     "evalue": "'Student' object has no attribute 'name'",
     "output_type": "error",
     "traceback": [
      "\u001b[0;31m---------------------------------------------------------------------------\u001b[0m",
      "\u001b[0;31mAttributeError\u001b[0m                            Traceback (most recent call last)",
      "Cell \u001b[0;32mIn[10], line 8\u001b[0m\n\u001b[1;32m      6\u001b[0m student_sasha \u001b[38;5;241m=\u001b[39m Student(name\u001b[38;5;241m=\u001b[39m\u001b[38;5;124m'\u001b[39m\u001b[38;5;124mАлександра\u001b[39m\u001b[38;5;124m'\u001b[39m, age\u001b[38;5;241m=\u001b[39m\u001b[38;5;241m26\u001b[39m)\n\u001b[1;32m      7\u001b[0m \u001b[38;5;28mprint\u001b[39m(\u001b[38;5;124m'\u001b[39m\u001b[38;5;124mМой статус:\u001b[39m\u001b[38;5;124m'\u001b[39m, student_sasha\u001b[38;5;241m.\u001b[39mstatus)\n\u001b[0;32m----> 8\u001b[0m \u001b[38;5;28mprint\u001b[39m(\u001b[38;5;124m'\u001b[39m\u001b[38;5;124mМое имя:\u001b[39m\u001b[38;5;124m'\u001b[39m, student_sasha\u001b[38;5;241m.\u001b[39mname)\n\u001b[1;32m      9\u001b[0m \u001b[38;5;28mprint\u001b[39m(\u001b[38;5;124m'\u001b[39m\u001b[38;5;124mМой возраст:\u001b[39m\u001b[38;5;124m'\u001b[39m, student_sasha\u001b[38;5;241m.\u001b[39mage)\n",
      "\u001b[0;31mAttributeError\u001b[0m: 'Student' object has no attribute 'name'"
     ]
    }
   ],
   "source": [
    "class Student: \n",
    "    def __init__(self, name, age): # <-- мы все перепутали + забыли про age((((( \n",
    "        self.status = 'student'\n",
    "        self.age = name\n",
    "\n",
    "student_sasha = Student(name='Александра', age=26)\n",
    "print('Мой статус:', student_sasha.status)\n",
    "print('Мое имя:', student_sasha.name)\n",
    "print('Мой возраст:', student_sasha.age)"
   ]
  },
  {
   "cell_type": "markdown",
   "id": "637d7958-8c62-4e9a-988f-dd7e832f33bb",
   "metadata": {},
   "source": [
    "### Аннотация типов (доп)"
   ]
  },
  {
   "cell_type": "code",
   "execution_count": 11,
   "id": "efa80905-d158-44bd-9cf8-feb54a17d042",
   "metadata": {},
   "outputs": [
    {
     "name": "stdout",
     "output_type": "stream",
     "text": [
      "Мой статус: student\n"
     ]
    },
    {
     "ename": "AttributeError",
     "evalue": "'Student' object has no attribute 'name'",
     "output_type": "error",
     "traceback": [
      "\u001b[0;31m---------------------------------------------------------------------------\u001b[0m",
      "\u001b[0;31mAttributeError\u001b[0m                            Traceback (most recent call last)",
      "Cell \u001b[0;32mIn[11], line 14\u001b[0m\n\u001b[1;32m      8\u001b[0m \u001b[38;5;66;03m# student_sasha = Student(name='Александра', age=26) # тут мы все передали правильно\u001b[39;00m\n\u001b[1;32m      9\u001b[0m \u001b[38;5;66;03m# student_sasha = Student(name='Александра', age=26.5) # age float, а не int \u001b[39;00m\n\u001b[1;32m     10\u001b[0m \u001b[38;5;66;03m# student_sasha = Student(name=555555555555, age=26) # name int, а не str\u001b[39;00m\n\u001b[1;32m     11\u001b[0m \u001b[38;5;66;03m# student_sasha = Student(name=555555555555, age=26.5) # комбо\u001b[39;00m\n\u001b[1;32m     13\u001b[0m \u001b[38;5;28mprint\u001b[39m(\u001b[38;5;124m'\u001b[39m\u001b[38;5;124mМой статус:\u001b[39m\u001b[38;5;124m'\u001b[39m, student_sasha\u001b[38;5;241m.\u001b[39mstatus)\n\u001b[0;32m---> 14\u001b[0m \u001b[38;5;28mprint\u001b[39m(\u001b[38;5;124m'\u001b[39m\u001b[38;5;124mМое имя:\u001b[39m\u001b[38;5;124m'\u001b[39m, student_sasha\u001b[38;5;241m.\u001b[39mname)\n\u001b[1;32m     15\u001b[0m \u001b[38;5;28mprint\u001b[39m(\u001b[38;5;124m'\u001b[39m\u001b[38;5;124mМой возраст:\u001b[39m\u001b[38;5;124m'\u001b[39m, student_sasha\u001b[38;5;241m.\u001b[39mage)\n",
      "\u001b[0;31mAttributeError\u001b[0m: 'Student' object has no attribute 'name'"
     ]
    }
   ],
   "source": [
    "class Student: \n",
    "    def __init__(self, name: str, age: int) -> None: \n",
    "        self.status = 'student'\n",
    "        self.name = name\n",
    "        self.age = age\n",
    "\n",
    "\n",
    "# student_sasha = Student(name='Александра', age=26) # тут мы все передали правильно\n",
    "# student_sasha = Student(name='Александра', age=26.5) # age float, а не int \n",
    "# student_sasha = Student(name=555555555555, age=26) # name int, а не str\n",
    "# student_sasha = Student(name=555555555555, age=26.5) # комбо\n",
    "\n",
    "print('Мой статус:', student_sasha.status)\n",
    "print('Мое имя:', student_sasha.name)\n",
    "print('Мой возраст:', student_sasha.age)"
   ]
  },
  {
   "cell_type": "markdown",
   "id": "c4474c36-0286-490a-a60e-48936e260025",
   "metadata": {},
   "source": [
    "### Методы (= умение конкретного экземпляра) "
   ]
  },
  {
   "cell_type": "code",
   "execution_count": 12,
   "id": "684cd3b5-9131-4765-9c1a-b0efedce2c6e",
   "metadata": {},
   "outputs": [
    {
     "name": "stdout",
     "output_type": "stream",
     "text": [
      "Значение переменной name: Александра\n",
      "26\n",
      "Значение переменной age: None\n"
     ]
    },
    {
     "ename": "TypeError",
     "evalue": "Student.get_age_without_self() takes 0 positional arguments but 1 was given",
     "output_type": "error",
     "traceback": [
      "\u001b[0;31m---------------------------------------------------------------------------\u001b[0m",
      "\u001b[0;31mTypeError\u001b[0m                                 Traceback (most recent call last)",
      "Cell \u001b[0;32mIn[12], line 28\u001b[0m\n\u001b[1;32m     25\u001b[0m \u001b[38;5;28mprint\u001b[39m(\u001b[38;5;124m'\u001b[39m\u001b[38;5;124mЗначение переменной age:\u001b[39m\u001b[38;5;124m'\u001b[39m, age)\n\u001b[1;32m     27\u001b[0m \u001b[38;5;66;03m# get_age_without_self - ошибка \u001b[39;00m\n\u001b[0;32m---> 28\u001b[0m age \u001b[38;5;241m=\u001b[39m student_sasha\u001b[38;5;241m.\u001b[39mget_age_without_self()\n",
      "\u001b[0;31mTypeError\u001b[0m: Student.get_age_without_self() takes 0 positional arguments but 1 was given"
     ]
    }
   ],
   "source": [
    "class Student: \n",
    "    def __init__(self, name: str, age: int) -> None: \n",
    "        self.status = 'student'\n",
    "        self.name = name\n",
    "        self.age = age\n",
    "\n",
    "    def get_name(self): # <-- он знает свое состояние \n",
    "        return self.name # <-- return как обычная функция \n",
    "\n",
    "    def get_age(self): # <-- он знает свое состояние \n",
    "        print(self.age) # <-- печатает, но ничего не возвращает \n",
    "\n",
    "    def get_age_without_self(): # <-- а что если мы не передадим self? \n",
    "        print('Я метод, который вызвали без self')\n",
    "\n",
    "\n",
    "student_sasha = Student(name='Александра', age=26)\n",
    "\n",
    "# get_name\n",
    "name = student_sasha.get_name() # <-- так мы вызываем метод (точка и скобки)\n",
    "print('Значение переменной name:', name)\n",
    "\n",
    "# get_age\n",
    "age = student_sasha.get_age()\n",
    "print('Значение переменной age:', age)\n",
    "\n",
    "# get_age_without_self - ошибка \n",
    "age = student_sasha.get_age_without_self() # <-- здесь произошла перезапись, так стараемся НЕ делать"
   ]
  },
  {
   "cell_type": "markdown",
   "id": "72c5da72-bc5a-4c35-bd55-006dc8a8294e",
   "metadata": {},
   "source": [
    "    Теперь добавим в методы параметры"
   ]
  },
  {
   "cell_type": "code",
   "execution_count": 13,
   "id": "04c83c9a-ee9e-443e-9bdb-c2e4cffd4614",
   "metadata": {},
   "outputs": [
    {
     "name": "stdout",
     "output_type": "stream",
     "text": [
      "                   \n",
      "            Привет, Павел! \n",
      "            Я student. \n",
      "            Меня зовут Александра. \n",
      "            Мне 26.\n",
      "            Приятно познакомиться!\n",
      "            \n"
     ]
    }
   ],
   "source": [
    "class Student: \n",
    "    def __init__(self, name: str, age: int) -> None: \n",
    "        self.status = 'student'\n",
    "        self.name = name\n",
    "        self.age = age\n",
    "\n",
    "    def get_name(self): \n",
    "        return self.name \n",
    "\n",
    "    def greet_person(self, person_name): \n",
    "        print(f\"\"\"                   \n",
    "            Привет, {person_name}! \n",
    "            Я {self.status}. \n",
    "            Меня зовут {self.name}. \n",
    "            Мне {self.age}.\n",
    "            Приятно познакомиться!\n",
    "            \"\"\"\n",
    "        ) # <-- использую f-string \n",
    "\n",
    "\n",
    "student_sasha = Student(name='Александра', age=26)\n",
    "\n",
    "# student_sasha.greet_person() # <-- сюда нужно передать person_name\n",
    "student_sasha.greet_person(person_name='Павел')"
   ]
  },
  {
   "cell_type": "markdown",
   "id": "c29cfab7-1954-4851-921a-01a2e16482b8",
   "metadata": {},
   "source": [
    "### Что такое f-string (доп) "
   ]
  },
  {
   "cell_type": "code",
   "execution_count": 14,
   "id": "7506149c-6cf5-4a3c-b7c5-9e8349c9d9ec",
   "metadata": {},
   "outputs": [
    {
     "name": "stdout",
     "output_type": "stream",
     "text": [
      "Это просто текст. Сейчас передам переменную, содержащую имя - Max\n",
      "Здесь я не передаю переменную, f перед строкой мне не мешает\n",
      "Max100\n",
      "А тут я читаю прямо в f string: 4\n",
      "А еще я умею округлять: 1, 1.0, 1.01, 1.013, 1.0134\n"
     ]
    }
   ],
   "source": [
    "name = 'Max'\n",
    "age = 100\n",
    "num = 1.0134\n",
    "\n",
    "print(f\"Это просто текст. Сейчас передам переменную, содержащую имя - {name}\")\n",
    "print(f\"Здесь я не передаю переменную, f перед строкой мне не мешает\")\n",
    "print(f\"{name}{age}\") # <-- не содержит никакого текста\n",
    "print(f\"А тут я читаю прямо в f string: {2 + 2}\")\n",
    "print(f\"А еще я умею округлять: {num:.0f}, {num:.1f}, {num:.2f}, {num:.3f}, {num:.4f}\")"
   ]
  },
  {
   "cell_type": "markdown",
   "id": "675013e3-3284-4e0f-b62d-34081861edfb",
   "metadata": {},
   "source": [
    "### Неприятность, которую нужно избегать( "
   ]
  },
  {
   "cell_type": "code",
   "execution_count": 15,
   "id": "7c6ee396-d31d-495f-970b-9c1204fd671d",
   "metadata": {},
   "outputs": [
    {
     "name": "stdout",
     "output_type": "stream",
     "text": [
      "Значение переменной gender: F\n"
     ]
    }
   ],
   "source": [
    "class Student: \n",
    "    def __init__(self, name: str, age: int) -> None: \n",
    "        self.status = 'student'\n",
    "        self.name = name\n",
    "        self.age = age\n",
    "\n",
    "    def get_name(self): \n",
    "        return self.name \n",
    "\n",
    "    def get_gender(self): \n",
    "        return self.gender # <-- сейчас они нигде не объявлена, но вызывается \n",
    "\n",
    "\n",
    "student_sasha = Student(name='Александра', age=26)\n",
    "\n",
    "# get_gender\n",
    "# gender = student_sasha.get_gender()\n",
    "# print('Значение переменной gender:', gender)\n",
    "\n",
    "# get_gender \n",
    "student_sasha.gender = 'F'\n",
    "gender = student_sasha.get_gender()\n",
    "print('Значение переменной gender:', gender)"
   ]
  },
  {
   "cell_type": "code",
   "execution_count": 16,
   "id": "42940cc7-a0dc-451c-8d55-abe78b2c71ac",
   "metadata": {},
   "outputs": [
    {
     "name": "stdout",
     "output_type": "stream",
     "text": [
      "Значение переменной gender: None\n"
     ]
    }
   ],
   "source": [
    "class Student: \n",
    "    def __init__(self, name: str, age: int) -> None: \n",
    "        self.status = 'student'\n",
    "        self.name = name\n",
    "        self.age = age\n",
    "        self.gender = None # <-- лучше задать сразу все атрибуты, которые используются \n",
    "\n",
    "    def get_name(self): \n",
    "        return self.name \n",
    "\n",
    "    def get_gender(self): \n",
    "        return self.gender # <-- сейчас онa None \n",
    "\n",
    "\n",
    "student_sasha = Student(name='Александра', age=26)\n",
    "\n",
    "# get_gender\n",
    "gender = student_sasha.get_gender()\n",
    "print('Значение переменной gender:', gender)\n"
   ]
  },
  {
   "cell_type": "markdown",
   "id": "610fe58f-f4aa-4cc4-a4d7-61ab95b26779",
   "metadata": {},
   "source": [
    "### Документация"
   ]
  },
  {
   "cell_type": "code",
   "execution_count": 17,
   "id": "0d9c6804-3fa2-4244-8928-f5dfe0cab9a8",
   "metadata": {},
   "outputs": [
    {
     "name": "stdout",
     "output_type": "stream",
     "text": [
      "\n",
      "    Класс Student представляет собой модель студента в учебной среде.\n",
      "\n",
      "    Атрибуты:\n",
      "    ----------\n",
      "    status : str\n",
      "        Статус студента ('student').\n",
      "    name : str\n",
      "        Имя студента.\n",
      "    age : int\n",
      "        Возраст студента.\n",
      "    gender : Optional[str]\n",
      "        Пол студента. По умолчанию None.\n",
      "\n",
      "    Методы:\n",
      "    -------\n",
      "    get_name() -> str:\n",
      "        Возвращает имя студента.\n",
      "\n",
      "    get_gender() -> Optional[str]:\n",
      "        Возвращает пол студента. Если пол не указан, возвращается None.\n",
      "    \n"
     ]
    }
   ],
   "source": [
    "from typing import Optional # <-- с этим познакомимся позже  \n",
    "\n",
    "class Student: \n",
    "    \"\"\"\n",
    "    Класс Student представляет собой модель студента в учебной среде.\n",
    "\n",
    "    Атрибуты:\n",
    "    ----------\n",
    "    status : str\n",
    "        Статус студента ('student').\n",
    "    name : str\n",
    "        Имя студента.\n",
    "    age : int\n",
    "        Возраст студента.\n",
    "    gender : Optional[str]\n",
    "        Пол студента. По умолчанию None.\n",
    "\n",
    "    Методы:\n",
    "    -------\n",
    "    get_name() -> str:\n",
    "        Возвращает имя студента.\n",
    "\n",
    "    get_gender() -> Optional[str]:\n",
    "        Возвращает пол студента. Если пол не указан, возвращается None.\n",
    "    \"\"\"\n",
    "    \n",
    "    def __init__(self, name: str, age: int) -> None: \n",
    "        \"\"\"\n",
    "        Инициализирует объект класса Student.\n",
    "\n",
    "        Параметры:\n",
    "        ----------\n",
    "        name : str\n",
    "            Имя студента.\n",
    "        age : int\n",
    "            Возраст студента.\n",
    "        \"\"\"\n",
    "        self.status = 'student'\n",
    "        self.name = name\n",
    "        self.age = age\n",
    "        self.gender = None \n",
    "\n",
    "    def get_name(self) -> str: \n",
    "        \"\"\"\n",
    "        Возвращает имя студента.\n",
    "\n",
    "        Returns:\n",
    "        --------\n",
    "        str\n",
    "            Имя студента.\n",
    "        \"\"\"\n",
    "        return self.name \n",
    "\n",
    "    def get_gender(self) -> Optional[str]: \n",
    "        \"\"\"\n",
    "        Возвращает пол студента.\n",
    "\n",
    "        Returns:\n",
    "        --------\n",
    "        Optional[str] or None\n",
    "            Пол студента. Если пол не указан, возвращается None.\n",
    "        \"\"\" \n",
    "        return self.gender  \n",
    "\n",
    "\n",
    "student_sasha = Student(name='Александра', age=26)\n",
    "print(student_sasha.__doc__)"
   ]
  },
  {
   "cell_type": "code",
   "execution_count": 18,
   "id": "1e5b236b-4fdb-49ab-b168-258d1535eba0",
   "metadata": {},
   "outputs": [
    {
     "name": "stdout",
     "output_type": "stream",
     "text": [
      "\n",
      "        Возвращает имя студента.\n",
      "\n",
      "        Returns:\n",
      "        --------\n",
      "        str\n",
      "            Имя студента.\n",
      "        \n"
     ]
    }
   ],
   "source": [
    "print(student_sasha.get_name.__doc__)"
   ]
  },
  {
   "cell_type": "code",
   "execution_count": 19,
   "id": "9341fb80-a402-4a18-ab44-226248240d06",
   "metadata": {},
   "outputs": [
    {
     "name": "stdout",
     "output_type": "stream",
     "text": [
      "Help on Student in module __main__ object:\n",
      "\n",
      "class Student(builtins.object)\n",
      " |  Student(name: str, age: int) -> None\n",
      " |  \n",
      " |  Класс Student представляет собой модель студента в учебной среде.\n",
      " |  \n",
      " |  Атрибуты:\n",
      " |  ----------\n",
      " |  status : str\n",
      " |      Статус студента ('student').\n",
      " |  name : str\n",
      " |      Имя студента.\n",
      " |  age : int\n",
      " |      Возраст студента.\n",
      " |  gender : Optional[str]\n",
      " |      Пол студента. По умолчанию None.\n",
      " |  \n",
      " |  Методы:\n",
      " |  -------\n",
      " |  get_name() -> str:\n",
      " |      Возвращает имя студента.\n",
      " |  \n",
      " |  get_gender() -> Optional[str]:\n",
      " |      Возвращает пол студента. Если пол не указан, возвращается None.\n",
      " |  \n",
      " |  Methods defined here:\n",
      " |  \n",
      " |  __init__(self, name: str, age: int) -> None\n",
      " |      Инициализирует объект класса Student.\n",
      " |      \n",
      " |      Параметры:\n",
      " |      ----------\n",
      " |      name : str\n",
      " |          Имя студента.\n",
      " |      age : int\n",
      " |          Возраст студента.\n",
      " |  \n",
      " |  get_gender(self) -> Optional[str]\n",
      " |      Возвращает пол студента.\n",
      " |      \n",
      " |      Returns:\n",
      " |      --------\n",
      " |      Optional[str] or None\n",
      " |          Пол студента. Если пол не указан, возвращается None.\n",
      " |  \n",
      " |  get_name(self) -> str\n",
      " |      Возвращает имя студента.\n",
      " |      \n",
      " |      Returns:\n",
      " |      --------\n",
      " |      str\n",
      " |          Имя студента.\n",
      " |  \n",
      " |  ----------------------------------------------------------------------\n",
      " |  Data descriptors defined here:\n",
      " |  \n",
      " |  __dict__\n",
      " |      dictionary for instance variables\n",
      " |  \n",
      " |  __weakref__\n",
      " |      list of weak references to the object\n",
      "\n"
     ]
    }
   ],
   "source": [
    "help(student_sasha)"
   ]
  },
  {
   "cell_type": "markdown",
   "id": "0078b7fa-bbc4-4618-9b16-c009dfd77e22",
   "metadata": {},
   "source": [
    "### Лирическое отступление - перенос на следующую строку "
   ]
  },
  {
   "cell_type": "markdown",
   "id": "0765c9d1-ca69-47b5-aaff-b99e00d26d0c",
   "metadata": {},
   "source": [
    "    в чем проблема? "
   ]
  },
  {
   "cell_type": "code",
   "execution_count": 20,
   "id": "7fd1ded7-0638-47ea-b1ee-3ab61193d923",
   "metadata": {},
   "outputs": [
    {
     "name": "stdout",
     "output_type": "stream",
     "text": [
      "Я хочу распечатать очень длинную строку 5 ну и еще немного текста 10 и вот я уже совсем не помещаюсь на экране\n"
     ]
    }
   ],
   "source": [
    "very_very_very_very_long_name_1 = 5 \n",
    "very_very_very_very_long_name_2 = 10\n",
    "\n",
    "print(\"Я хочу распечатать очень длинную строку\", very_very_very_very_long_name_1, \"ну и еще немного текста\", very_very_very_very_long_name_2, \"и вот я уже совсем не помещаюсь на экране\")\n"
   ]
  },
  {
   "cell_type": "markdown",
   "id": "18ca170b-98bc-4eb3-915c-761bdc90a521",
   "metadata": {},
   "source": [
    "    как это можно решить - 1 (если это аргументы) "
   ]
  },
  {
   "cell_type": "code",
   "execution_count": 21,
   "id": "7147e722-8c0f-445e-9567-774eb56e3cdb",
   "metadata": {},
   "outputs": [
    {
     "name": "stdout",
     "output_type": "stream",
     "text": [
      "Я хочу распечатать очень длинную строку 5 ну и еще немного текста 10 и вот я уже совсем не помещаюсь на экране\n"
     ]
    }
   ],
   "source": [
    "print(\n",
    "    \"Я хочу распечатать очень длинную строку\", \n",
    "    very_very_very_very_long_name_1, \n",
    "    \"ну и еще немного текста\", \n",
    "    very_very_very_very_long_name_2, \n",
    "    \"и вот я уже совсем не помещаюсь на экране\"\n",
    ")\n",
    "\n"
   ]
  },
  {
   "cell_type": "markdown",
   "id": "a914d82b-b68e-4aaf-b790-e733317277fe",
   "metadata": {},
   "source": [
    "    как это можно решить - 2"
   ]
  },
  {
   "cell_type": "code",
   "execution_count": 22,
   "id": "5af2f129-2937-4cb3-b7d2-4eb708ca7ce2",
   "metadata": {},
   "outputs": [
    {
     "name": "stdout",
     "output_type": "stream",
     "text": [
      "Я хочу распечатать очень длинную строку 5 ну и еще немного текста 10 и вот я уже совсем не помещаюсь на экране\n"
     ]
    }
   ],
   "source": [
    "# ДО и ПОСЛЕ \"\\\" НЕ должно быть пробелов !!!\n",
    "\n",
    "result = \"Я хочу распечатать очень длинную строку \" + str(very_very_very_very_long_name_1) +\\\n",
    "\" ну и еще немного текста \" + str(very_very_very_very_long_name_2) +\\\n",
    "\" и вот я уже совсем не помещаюсь на экране\"\n",
    "\n",
    "print(result)\n"
   ]
  },
  {
   "cell_type": "markdown",
   "id": "56075caa-6d13-44c6-900e-f98679c758e9",
   "metadata": {},
   "source": [
    "    как это можно решить - 3 (я люблю этот способ) "
   ]
  },
  {
   "cell_type": "code",
   "execution_count": 23,
   "id": "df489cdc-8165-4b2c-a73e-a943fbc3eb2a",
   "metadata": {},
   "outputs": [
    {
     "name": "stdout",
     "output_type": "stream",
     "text": [
      "Я хочу распечатать очень длинную строку 5 ну и еще немного текста 10 и вот я уже совсем не помещаюсь на экране\n"
     ]
    }
   ],
   "source": [
    "result = (\n",
    "    \"Я хочу распечатать очень длинную строку \" + \n",
    "    str(very_very_very_very_long_name_1) +\n",
    "    \" ну и еще немного текста \" + \n",
    "    str(very_very_very_very_long_name_2) +\n",
    "    \" и вот я уже совсем не помещаюсь на экране\"\n",
    ")\n",
    "\n",
    "print(result)"
   ]
  },
  {
   "cell_type": "markdown",
   "id": "c6f2b61f-bd1c-4bda-8c4b-874c6a103e32",
   "metadata": {},
   "source": [
    "### Магические методы"
   ]
  },
  {
   "cell_type": "code",
   "execution_count": 24,
   "id": "ba8b47ee-cfa5-47cc-9879-e004f4264310",
   "metadata": {},
   "outputs": [
    {
     "name": "stdout",
     "output_type": "stream",
     "text": [
      "['__class__', '__delattr__', '__dict__', '__dir__', '__doc__', '__eq__', '__format__', '__ge__', '__getattribute__', '__getstate__', '__gt__', '__hash__', '__init__', '__init_subclass__', '__le__', '__lt__', '__module__', '__ne__', '__new__', '__reduce__', '__reduce_ex__', '__repr__', '__setattr__', '__sizeof__', '__str__', '__subclasshook__', '__weakref__', 'get_gender', 'get_name']\n"
     ]
    }
   ],
   "source": [
    "class Student: \n",
    "    def __init__(self, name: str, age: int) -> None: \n",
    "        self.status = 'student'\n",
    "        self.name = name\n",
    "        self.age = age\n",
    "        self.gender = None \n",
    "\n",
    "    def get_name(self): \n",
    "        return self.name \n",
    "\n",
    "    def get_gender(self): \n",
    "        return self.gender \n",
    "\n",
    "print(dir(Student))"
   ]
  },
  {
   "cell_type": "markdown",
   "id": "43965c5e-06b2-4cfd-b53d-8cbc8b818605",
   "metadata": {},
   "source": [
    " "
   ]
  },
  {
   "cell_type": "markdown",
   "id": "c265530a-15c1-4419-b806-0e477621aa10",
   "metadata": {},
   "source": [
    "#### Вот пояснения к некоторым магическим методам: \n",
    "\n",
    "- __class__: Возвращает класс, к которому принадлежит экземпляр. В контексте класса Student, этот метод будет возвращать <class '__main__.Student'>, предполагая, что класс определен в основном модуле скрипта.\n",
    "- __delattr__(self, name): Делает удаление атрибута из объекта. Этот метод вызывается, когда атрибут удаляется с помощью оператора del.\n",
    "- __dict__: Возвращает словарь, содержащий атрибуты объекта в виде пар \"ключ-значение\". Для экземпляра класса Student, этот словарь будет содержать атрибуты name, age, gender и status.\n",
    "- __dir__(self): Возвращает список всех атрибутов объекта, включая методы и переменные. Это полезно для получения списка всех доступных атрибутов объекта.\n",
    "- __doc__: Возвращает строку документации объекта, если она предоставлена. В случае с классом Student, если мы определили docstring для класса, этот метод вернет эту строку.\n",
    "- __format__(self, format_specifier): Определяет форматирование объекта. Этот метод позволяет контролировать, как объект будет отображаться при форматировании строк.\n",
    "- __getattribute__(self, name): Возвращает значение атрибута объекта. Этот метод вызывается при попытке получить доступ к атрибуту объекта.\n",
    "- __hash__(self): Возвращает хеш-код объекта. Этот метод используется для хеширования объектов.\n",
    "- __init__(self, name: str, age: int) -> None: Инициализирует новый экземпляр класса Student. Этот метод устанавливает начальные значения для атрибутов объекта.\n",
    "- __module__: Возвращает имя модуля, в котором определен класс или функция.\n",
    "- __new__(cls, *args, **kwargs): Создает и возвращает новый экземпляр класса. Этот метод вызывается перед __init__ и позволяет контролировать процесс создания нового объекта.\n",
    "- __reduce__(self): Возвращает кортеж, содержащий аргументы, необходимые для восстановления объекта. Этот метод используется для сериализации объектов.\n",
    "- __repr__(self): Возвращает строковое представление объекта, которое может быть использовано для его воссоздания. Этот метод должен возвращать строку, которая точно отражает состояние объекта.\n",
    "- __setattr__(self, name, value): Устанавливает значение атрибута объекта. Этот метод вызывается при попытке установить значение атрибута объекта.\n",
    "- __sizeof__(self): Возвращает размер объекта в байтах. Этот метод полезен для измерения использования памяти объектами.\n",
    "- __str__(self): Возвращает строковое представление объекта, которое может быть удобно для пользовательского вывода. Этот метод должен возвращать строку, которую можно безопасно распечатать.\n",
    "\n"
   ]
  },
  {
   "cell_type": "markdown",
   "id": "6483041e-11e4-4720-81b9-8296e2d1aa99",
   "metadata": {},
   "source": [
    "    Сейчас наш класс мало что умеет "
   ]
  },
  {
   "cell_type": "code",
   "execution_count": 26,
   "id": "5a6835de-4272-4fd5-ab04-0d00a66aa3f1",
   "metadata": {},
   "outputs": [
    {
     "name": "stdout",
     "output_type": "stream",
     "text": [
      "<__main__.Student object at 0x104aa3490>\n"
     ]
    }
   ],
   "source": [
    "class Student: \n",
    "    def __init__(self, name: str, age: int) -> None: \n",
    "        self.status = 'student'\n",
    "        self.name = name\n",
    "        self.age = age\n",
    "        self.gender = None \n",
    "\n",
    "    def get_name(self): \n",
    "        return self.name \n",
    "\n",
    "student_sasha = Student(name='Александра', age=26)\n",
    "print(student_sasha)"
   ]
  },
  {
   "cell_type": "markdown",
   "id": "fd4afb9f-e9f1-4384-bd2f-f77b381ebf3d",
   "metadata": {},
   "source": [
    "    Сделаем его более юзер френдли "
   ]
  },
  {
   "cell_type": "code",
   "execution_count": 17,
   "id": "51090db6-f3eb-4490-8a38-34d708f2acbb",
   "metadata": {},
   "outputs": [
    {
     "name": "stdout",
     "output_type": "stream",
     "text": [
      "Вызывается атрибут status\n",
      "Вызывается атрибут name\n",
      "Вызывается атрибут gender\n",
      "Вызывается атрибут age\n",
      "student Александра (пол: None, возраст: 26)\n",
      "\n",
      "Атрибут age удален\n",
      "Вызывается атрибут age\n",
      "None\n",
      "\n",
      "Вызывается атрибут __dict__\n",
      "Вызывается атрибут status\n",
      "Вызывается атрибут name\n",
      "Вызывается атрибут age\n",
      "Вызывается атрибут gender\n",
      "{'status': 'student', 'name': 'Александра', 'age': None, 'gender': None}\n",
      "\n",
      "Ой, как я сейчас все захеширую!\n",
      "276454973\n",
      "\n"
     ]
    }
   ],
   "source": [
    "class Student: \n",
    "    def __init__(self, name: str, age: int) -> None: \n",
    "        self.status = 'student'\n",
    "        self.name = name\n",
    "        self.age = age\n",
    "        self.gender = None \n",
    "\n",
    "    def get_name(self): \n",
    "        return self.name \n",
    "\n",
    "    def __str__(self): \n",
    "        return f\"{self.status} {self.name} (пол: {self.gender}, возраст: {self.age})\"\n",
    "\n",
    "    def __delattr__(self, item):\n",
    "        print(f\"Атрибут {item} удален\")\n",
    "        self.age = None \n",
    "\n",
    "    def __getattribute__(self, item): \n",
    "        print(f\"Вызывается атрибут {item}\")\n",
    "        return super().__getattribute__(item) # про это узнаем очень скоро (тема наследование)  \n",
    "\n",
    "    def __dict__(self): \n",
    "        return {'status': self.status, 'name': self.name, 'age': self.age, 'gender': self.gender}\n",
    "\n",
    "    def __hash__(self): \n",
    "        print(\"Ой, как я сейчас все захеширую!\")\n",
    "        return super().__hash__() \n",
    "\n",
    "    \n",
    "# строковое представление \n",
    "student_sasha = Student(name='Александра', age=26)\n",
    "print(student_sasha, end='\\n\\n') # <-- end='\\n\\n' говорит, чем нужно закончить вывод \n",
    "\n",
    "# удаление атрибута \n",
    "del student_sasha.age\n",
    "print(student_sasha.age, end='\\n\\n')\n",
    "\n",
    "# __dict__ \n",
    "print(student_sasha.__dict__(), end='\\n\\n')\n",
    "\n",
    "# hash \n",
    "print(hash(student_sasha), end='\\n\\n')\n"
   ]
  },
  {
   "cell_type": "markdown",
   "id": "d90b6120-4224-42bd-8510-e5c5efd1a92f",
   "metadata": {},
   "source": [
    "### Перегрузка операторов "
   ]
  },
  {
   "cell_type": "markdown",
   "id": "42c711a8-7679-4e88-a848-c88266dc3fef",
   "metadata": {},
   "source": [
    "    Сейчас сравнение экземпляров класса Student не определено "
   ]
  },
  {
   "cell_type": "code",
   "execution_count": 11,
   "id": "d5e55321-728a-4cae-9731-6ae5cce68b1c",
   "metadata": {},
   "outputs": [
    {
     "ename": "TypeError",
     "evalue": "'>' not supported between instances of 'Student' and 'Student'",
     "output_type": "error",
     "traceback": [
      "\u001b[0;31m---------------------------------------------------------------------------\u001b[0m",
      "\u001b[0;31mTypeError\u001b[0m                                 Traceback (most recent call last)",
      "Cell \u001b[0;32mIn[11], line 11\u001b[0m\n\u001b[1;32m      8\u001b[0m student_sasha \u001b[38;5;241m=\u001b[39m Student(name\u001b[38;5;241m=\u001b[39m\u001b[38;5;124m'\u001b[39m\u001b[38;5;124mАлександра\u001b[39m\u001b[38;5;124m'\u001b[39m, age\u001b[38;5;241m=\u001b[39m\u001b[38;5;241m26\u001b[39m)\n\u001b[1;32m      9\u001b[0m student_aleksandra \u001b[38;5;241m=\u001b[39m Student(name\u001b[38;5;241m=\u001b[39m\u001b[38;5;124m'\u001b[39m\u001b[38;5;124mАлександра\u001b[39m\u001b[38;5;124m'\u001b[39m, age\u001b[38;5;241m=\u001b[39m\u001b[38;5;241m26\u001b[39m)\n\u001b[0;32m---> 11\u001b[0m \u001b[38;5;28mprint\u001b[39m(student_sasha \u001b[38;5;241m>\u001b[39m student_aleksandra) \n\u001b[1;32m     12\u001b[0m \u001b[38;5;28mprint\u001b[39m(student_sasha \u001b[38;5;241m+\u001b[39m student_aleksandra)\n",
      "\u001b[0;31mTypeError\u001b[0m: '>' not supported between instances of 'Student' and 'Student'"
     ]
    }
   ],
   "source": [
    "class Student: \n",
    "    def __init__(self, name: str, age: int) -> None: \n",
    "        self.status = 'student'\n",
    "        self.name = name\n",
    "        self.age = age\n",
    "        self.gender = None \n",
    "\n",
    "student_sasha = Student(name='Александра', age=26)\n",
    "student_aleksandra = Student(name='Александра', age=26)\n",
    "\n",
    "print(student_sasha > student_aleksandra) \n",
    "print(student_sasha + student_aleksandra) "
   ]
  },
  {
   "cell_type": "markdown",
   "id": "f99aa25c-b9b0-4663-b5c3-6586d27b6b76",
   "metadata": {},
   "source": [
    "    Эмуляция операторов сравнения"
   ]
  },
  {
   "cell_type": "code",
   "execution_count": 132,
   "id": "c0a26300-2c6e-46c5-9eaf-5b29c11ce37f",
   "metadata": {},
   "outputs": [
    {
     "name": "stdout",
     "output_type": "stream",
     "text": [
      "Sasha == Max ? False\n",
      "Sasha == Anna ? True\n",
      "Sasha != Anna ? False\n",
      "Sasha < Anna ? False\n",
      "Sasha > Anna ? False\n",
      "Sasha <= Anna ? True\n",
      "Sasha >= Anna ? True\n"
     ]
    }
   ],
   "source": [
    "# object.__eq__(self, other) - равенство двух объектов ==\n",
    "# object.__ne__(self, other) - не равно !=\n",
    "# object.__lt__(self, other) - строго меньше <\n",
    "# object.__le__(self, other) - меньше или равно <=\n",
    "# object.__gt__(self, other) - строго больше >\n",
    "# object.__ge__(self, other) - больше или равно >=\n",
    "\n",
    "class Student: \n",
    "    def __init__(self, name: str, age: int) -> None: \n",
    "        self.status = 'student'\n",
    "        self.name = name\n",
    "        self.age = age\n",
    "        self.gender = None \n",
    "\n",
    "    def get_name(self): \n",
    "        return self.name \n",
    "\n",
    "    def __eq__(self, other): # одновременно реализует == и != \n",
    "        return self.age == other.age\n",
    "\n",
    "    def __lt__(self, other): # одновременно реализует > и < \n",
    "        return self.age < other.age\n",
    "\n",
    "    def __le__(self, other): # одновременно реализует >= и <= \n",
    "        return self.age <= other.age\n",
    "\n",
    "\n",
    "student_sasha = Student(name='Александра', age=26)\n",
    "student_max = Student(name='Максим', age=50)\n",
    "student_anna = Student(name='Анна', age=26)\n",
    "\n",
    "print('Sasha == Max ?', student_sasha == student_max)\n",
    "\n",
    "print('Sasha == Anna ?', student_sasha == student_anna) # == и != \n",
    "print('Sasha != Anna ?', student_sasha != student_anna)\n",
    "print('Sasha < Anna ?', student_sasha < student_anna) # > и < \n",
    "print('Sasha > Anna ?', student_sasha > student_anna)\n",
    "print('Sasha <= Anna ?', student_sasha <= student_anna) # >= и <= \n",
    "print('Sasha >= Anna ?', student_sasha >= student_anna)"
   ]
  },
  {
   "cell_type": "markdown",
   "id": "070ddacf-5b13-4b33-ac58-ee993f63c334",
   "metadata": {},
   "source": [
    "    Эмуляция математических операций"
   ]
  },
  {
   "cell_type": "code",
   "execution_count": 18,
   "id": "d5c3d384-e336-47e1-9b62-8c7e8aa12473",
   "metadata": {},
   "outputs": [
    {
     "name": "stdout",
     "output_type": "stream",
     "text": [
      "Sasha & Max ? 26\n",
      "Sasha | Max ? 50\n",
      "Sasha + Max ? 76\n"
     ]
    }
   ],
   "source": [
    "# object.__add__(self, other) - сложение +\n",
    "# object.__sub__(self, other) - вычитание -\n",
    "# object.__mul__(self, other) - умножение *\n",
    "# object.__truediv__(self, other) - деление /\n",
    "# object.__floordiv__(self, other) - целочисленное деление //\n",
    "# object.__mod__(self, other) - остаток от деления %\n",
    "# object.__pow__(self, other) - возведение в степень **\n",
    "# object.__lshift__(self, other) - побитовый сдвиг влево <<\n",
    "# object.__rshift__(self, other) - побитовый сдвиг вправо >>\n",
    "# object.__and__(self, other) - побитовое И &\n",
    "# object.__xor__(self, other) - побитовое исключающее ИЛИ ^\n",
    "# object.__or__(self, other) - побитовое ИЛИ |\n",
    "\n",
    "class Student: \n",
    "    def __init__(self, name: str, age: int) -> None: \n",
    "        self.status = 'student'\n",
    "        self.name = name\n",
    "        self.age = age\n",
    "        self.gender = None \n",
    "\n",
    "    def get_name(self): \n",
    "        return self.name \n",
    "\n",
    "    def __and__(self, other): \n",
    "        return min(self.age, other.age)\n",
    "\n",
    "    def __or__(self, other): \n",
    "        return max(self.age, other.age)\n",
    "\n",
    "    def __add__(self, other):\n",
    "        return self.age + other.age\n",
    "        \n",
    "\n",
    "student_sasha = Student(name='Александра', age=26)\n",
    "student_max = Student(name='Максим', age=50)\n",
    "student_anna = Student(name='Анна', age=26)\n",
    "\n",
    "print('Sasha & Max ?', student_sasha & student_max)\n",
    "print('Sasha | Max ?', student_sasha | student_max)\n",
    "print('Sasha + Max ?', student_sasha + student_max)"
   ]
  },
  {
   "cell_type": "markdown",
   "id": "29e9aa66-8b8b-4ac5-956e-0eedf417353c",
   "metadata": {},
   "source": [
    "    Операции расширенного присвоения "
   ]
  },
  {
   "cell_type": "code",
   "execution_count": 23,
   "id": "4b8689c2-e721-4719-98d8-af339b809187",
   "metadata": {},
   "outputs": [
    {
     "name": "stdout",
     "output_type": "stream",
     "text": [
      "До 26\n",
      "После 676\n",
      "До 50\n",
      "После 52\n"
     ]
    }
   ],
   "source": [
    "# object.__iadd__(self, other) - +=\n",
    "# object.__isub__(self, other) - -=\n",
    "# object.__imul__(self, other) - *=\n",
    "# object.__itruediv__(self, other) - /+\n",
    "# object.__ifloordiv__(self, other) - //=\n",
    "# object.__imod__(self, other) - %=\n",
    "# object.__ipow__(self, other) - **=\n",
    "# object.__ilshift__(self, other) - <<=\n",
    "# object.__irshift__(self, other) - >>=\n",
    "# object.__iand__(self, other) - &=\n",
    "# object.__ixor__(self, other) - ^=\n",
    "# object.__ior__(self, other) - |=\n",
    "\n",
    "class Student: \n",
    "    def __init__(self, name: str, age: int) -> None: \n",
    "        self.status = 'student'\n",
    "        self.name = name\n",
    "        self.age = age\n",
    "        self.gender = None \n",
    "\n",
    "    def get_name(self): \n",
    "        return self.name \n",
    "\n",
    "    def __ipow__(self, other):\n",
    "        if isinstance(other, int) and other >= 0:\n",
    "            self.age **= other\n",
    "        else:\n",
    "            raise ValueError(\"Exponent must be a non-negative integer.\") # будем изучать позже \n",
    "        return self\n",
    "\n",
    "    def __iadd__(self, other):\n",
    "        if isinstance(other, int) and other >= 0:\n",
    "            self.age += other\n",
    "        else:\n",
    "            raise ValueError(\"Exponent must be a non-negative integer.\") # будем изучать позже \n",
    "        return self\n",
    "        \n",
    "\n",
    "student_sasha = Student(name='Александра', age=26)\n",
    "student_max = Student(name='Максим', age=50)\n",
    "\n",
    "print('До', student_sasha.age)\n",
    "student_sasha **= 2\n",
    "print('После', student_sasha.age)\n",
    "\n",
    "print('До', student_max.age)\n",
    "student_max += 2\n",
    "print('После', student_max.age)"
   ]
  },
  {
   "cell_type": "markdown",
   "id": "e45fbdf0-7a88-4734-bc2e-dbcb913701fc",
   "metadata": {},
   "source": [
    " "
   ]
  },
  {
   "cell_type": "markdown",
   "id": "7abe98cb-caca-4f94-8e0b-d128e7a6c8b9",
   "metadata": {},
   "source": [
    "### Сериализация (доп)"
   ]
  },
  {
   "cell_type": "markdown",
   "id": "8cc05cb3-cb1e-4ec6-9137-fd13fb76f1d6",
   "metadata": {},
   "source": [
    "**Сериализация** — это процесс преобразования состояния объекта в формат, который может быть сохранен или передан через сеть, а затем восстановлен обратно в исходный объект. Этот процесс позволяет сохранять состояние объектов на диск или передавать их по сети, например, для распределенных систем или баз данных. "
   ]
  },
  {
   "cell_type": "code",
   "execution_count": 2,
   "id": "ac6a4ef8-fa49-4947-a5dd-fdb293953001",
   "metadata": {},
   "outputs": [
    {
     "name": "stdout",
     "output_type": "stream",
     "text": [
      "Александра\n"
     ]
    }
   ],
   "source": [
    "import pickle\n",
    "\n",
    "class Student: \n",
    "    def __init__(self, name: str, age: int) -> None: \n",
    "        self.status = 'student'\n",
    "        self.name = name\n",
    "        self.age = age\n",
    "        self.gender = None \n",
    "\n",
    "    def __reduce__(self):\n",
    "        return (Student, (self.name, self.age)) # <-- сюда нужно то, что передается в __init__ \n",
    "\n",
    "# Создание объекта\n",
    "student_sasha = Student(name='Александра', age=26)\n",
    "\n",
    "# Сериализация объекта\n",
    "serialized_obj = pickle.dumps(student_sasha)\n",
    "\n",
    "# Десериализация объекта\n",
    "deserialized_obj = pickle.loads(serialized_obj)\n",
    "\n",
    "print(deserialized_obj.name) "
   ]
  },
  {
   "cell_type": "markdown",
   "id": "1185856e-1dcc-4645-849d-5ed738cb024b",
   "metadata": {},
   "source": [
    "### Что можно посмотреть, если вы любопытный + любознательный"
   ]
  },
  {
   "cell_type": "markdown",
   "id": "af33e203-fdfd-4c5c-99a6-29d80118858e",
   "metadata": {},
   "source": [
    "- Реализация магических методов, которые еще не были рассмотрены \n",
    "- Что такое ООП?\n",
    "- Основные принципы ООП: наследование, инкапсуляция, полиморфизм + абстракция\n",
    "- Какие методы бывают? (метод экзмепляра, @staticmethod, @classmethod + @property)\n",
    "- Что такое декораторы? (@staticmethod, @classmethod, @property - это декораторы)\n",
    "- Как реализовывается интерфейс в Python? (см. про абстракцию)\n"
   ]
  },
  {
   "cell_type": "markdown",
   "id": "5fcbad51-4fa8-4f19-83f8-9069977cdce1",
   "metadata": {},
   "source": [
    " "
   ]
  },
  {
   "cell_type": "markdown",
   "id": "7147bff3-ea46-4452-a746-b70b7c890585",
   "metadata": {},
   "source": [
    "### Отмечаем посещаемость - напишите в чат ФИО "
   ]
  },
  {
   "cell_type": "markdown",
   "id": "a492d71f-142c-46dd-86ef-abfc9a2cc6cf",
   "metadata": {},
   "source": [
    " "
   ]
  }
 ],
 "metadata": {
  "kernelspec": {
   "display_name": "Python 3 (ipykernel)",
   "language": "python",
   "name": "python3"
  },
  "language_info": {
   "codemirror_mode": {
    "name": "ipython",
    "version": 3
   },
   "file_extension": ".py",
   "mimetype": "text/x-python",
   "name": "python",
   "nbconvert_exporter": "python",
   "pygments_lexer": "ipython3",
   "version": "3.11.8"
  }
 },
 "nbformat": 4,
 "nbformat_minor": 5
}
