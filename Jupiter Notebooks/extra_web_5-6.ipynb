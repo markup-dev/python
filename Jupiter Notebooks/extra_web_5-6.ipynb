{
 "cells": [
  {
   "cell_type": "markdown",
   "id": "dffc7e44-018c-4285-af08-4d2d176b2294",
   "metadata": {},
   "source": [
    "# Дополнительный вебинар по 5-6 модулям \n",
    "- Классы и объекты\n",
    "- Наследование классов"
   ]
  },
  {
   "cell_type": "markdown",
   "id": "be150741-c41f-4113-80c9-91fbcdaa960c",
   "metadata": {},
   "source": [
    "## Классы и объекты"
   ]
  },
  {
   "cell_type": "markdown",
   "id": "778cea11-61a0-4901-9a69-11546a25da6d",
   "metadata": {},
   "source": [
    "**Мои вопросы**\n",
    "- как создается объект / экземпляр класса \n",
    "- что такое атрибуты класс и экземпляра? \n",
    "- что такое магические методы? \n",
    "- неявное наследование от object \n",
    "- что можно делать в ините \n",
    "- Перегрузка операторов\n",
    "- new \n",
    "- объект класса в другом классе \n"
   ]
  },
  {
   "cell_type": "markdown",
   "id": "48249cd8-5cc0-46e2-a339-a5d31cc5b189",
   "metadata": {},
   "source": [
    " "
   ]
  },
  {
   "cell_type": "markdown",
   "id": "c1f3d5a2-6b3d-4959-bb0d-001333a9719e",
   "metadata": {},
   "source": [
    "### Магические методы определяют ПОВЕДЕНИЕ объекта "
   ]
  },
  {
   "cell_type": "markdown",
   "id": "242f7a35-a720-472f-ae96-7737959fa261",
   "metadata": {},
   "source": [
    "**Какие магические методы вызываются?**\n",
    "\n",
    "- / > / < / = / >= / <= \n",
    "- print(instance)\n",
    "- del instance\n",
    "- len(instance) \n",
    "- instance[1] \n",
    "- instance()\n"
   ]
  },
  {
   "cell_type": "markdown",
   "id": "41a413b6-bc0a-4777-8acd-c7b83e83c45f",
   "metadata": {},
   "source": [
    " "
   ]
  },
  {
   "cell_type": "markdown",
   "id": "e979ff9a-5f9e-4735-8bc1-b2a56be09691",
   "metadata": {},
   "source": [
    "### isinstance "
   ]
  },
  {
   "cell_type": "code",
   "execution_count": null,
   "id": "5b5a3e7f-4595-4669-a704-e048d3c77a94",
   "metadata": {},
   "outputs": [],
   "source": [
    "isinstance(1, object)"
   ]
  },
  {
   "cell_type": "markdown",
   "id": "227add94-56c1-4f11-b151-19d369fa5593",
   "metadata": {},
   "source": [
    " "
   ]
  },
  {
   "cell_type": "markdown",
   "id": "e8f06462-cd56-468e-977b-aacc1a8dbeeb",
   "metadata": {},
   "source": [
    "### issubclass"
   ]
  },
  {
   "cell_type": "markdown",
   "id": "143c2b57-c1d0-41c2-8e51-b706ac6a06a0",
   "metadata": {},
   "source": [
    "    Первый пример "
   ]
  },
  {
   "cell_type": "code",
   "execution_count": 44,
   "id": "39562a04-db3f-4875-9bc3-1d8c6616a034",
   "metadata": {},
   "outputs": [
    {
     "name": "stdout",
     "output_type": "stream",
     "text": [
      "True\n",
      "False\n"
     ]
    }
   ],
   "source": [
    "class A: \n",
    "    pass\n",
    "\n",
    "class B(A): \n",
    "    pass\n",
    "\n",
    "print(issubclass (B, A))\n",
    "print(issubclass (A, B))\n"
   ]
  },
  {
   "cell_type": "markdown",
   "id": "ab9a38ac-62c6-474c-a795-bbb35ac49c2c",
   "metadata": {},
   "source": [
    "    Второй пример "
   ]
  },
  {
   "cell_type": "code",
   "execution_count": 47,
   "id": "5fe78109-5216-4409-abc0-56a3a0282da4",
   "metadata": {},
   "outputs": [
    {
     "name": "stdout",
     "output_type": "stream",
     "text": [
      "1 True\n",
      "2 True\n",
      "3 True\n",
      "4 False\n",
      "5 True\n"
     ]
    }
   ],
   "source": [
    "class NewClass:\n",
    "    ...\n",
    "\n",
    "class NextNewClass(NewClass): # <-- вот теперь точно нужны скобочки \n",
    "    ...\n",
    "\n",
    "class NextNextNewClass(NextNewClass): # <-- тут тоже \n",
    "    ...\n",
    "\n",
    "instance = NextNextNewClass()\n",
    "\n",
    "# issubclass \n",
    "print('1', issubclass(NextNextNewClass, NewClass)) \n",
    "print('2', issubclass(NextNewClass, NewClass))\n",
    "print('3', issubclass(NextNextNewClass, NextNewClass)) \n",
    "\n",
    "print('4', issubclass(NewClass, NextNextNewClass)) \n",
    "\n",
    "print('5', issubclass(NewClass, object)) "
   ]
  },
  {
   "cell_type": "markdown",
   "id": "c42fe19f-e123-434b-bc1a-9411f7b79c93",
   "metadata": {},
   "source": [
    " "
   ]
  },
  {
   "cell_type": "markdown",
   "id": "1b88a1c8-e532-42e8-999e-0fc31d82bfb5",
   "metadata": {},
   "source": [
    "#### Класс с заглушкой - полноценный класс"
   ]
  },
  {
   "cell_type": "code",
   "execution_count": null,
   "id": "60c7f6b2-962e-47e4-bbe5-cf0ca4ef225f",
   "metadata": {},
   "outputs": [],
   "source": [
    "class Class(object):\n",
    "    pass"
   ]
  },
  {
   "cell_type": "markdown",
   "id": "6ffacc18-592a-4f66-89d6-2c6406c2c9d3",
   "metadata": {},
   "source": [
    " "
   ]
  },
  {
   "cell_type": "markdown",
   "id": "e80ce6c5-2d51-4953-a3ca-83a1460cd861",
   "metadata": {},
   "source": [
    "#### Изначально каждый экземпляр получает значение из атрибута класса, но потом значение в экземпляре можно поменять (это может повлять на атрибут класса, если там лежал изменяемый тип данных)"
   ]
  },
  {
   "cell_type": "code",
   "execution_count": 27,
   "id": "285772be-b13d-4b6a-8d2d-d2c772d163d8",
   "metadata": {},
   "outputs": [
    {
     "name": "stdout",
     "output_type": "stream",
     "text": [
      "<__main__.Class object at 0x119c86950>\n",
      "5 5\n",
      "5 10\n"
     ]
    }
   ],
   "source": [
    "class Class():\n",
    "    example = 5 \n",
    "\n",
    "instance = Class()\n",
    "print(Class())\n",
    "\n",
    "print(Class.example, instance.example) # <-- совпадают \n",
    "\n",
    "instance.example = 10 # <-- поменяли  \n",
    "\n",
    "print(Class.example, instance.example) # <-- теперь разные  \n"
   ]
  },
  {
   "cell_type": "code",
   "execution_count": null,
   "id": "c1763a8d-c653-44ee-b7f4-74cd4b5ddc17",
   "metadata": {},
   "outputs": [],
   "source": [
    "class Class(): \n",
    "    age = 9 \n",
    "    \n",
    "    def __init__(self, name): \n",
    "        self.age = 8 # <--- если бы мы не переопределили, то было бы 9\n",
    "        self.name = name \n"
   ]
  },
  {
   "cell_type": "code",
   "execution_count": null,
   "id": "8197bb66-e261-43e6-a523-eec2ec0d857b",
   "metadata": {},
   "outputs": [],
   "source": [
    "class Animal:\n",
    "    alive = True\n",
    "    fed = False\n",
    "\n",
    "    def __init__(self, name):\n",
    "        self.name = name\n",
    "        # <--- тут мы еще как бы имеем self.alive = True и self.fed = False\n",
    "\n",
    "    def eat(self, food):\n",
    "        if food.edible:\n",
    "            print(f'{self.name} съел {food.name}')\n",
    "            Animal.fed = True\n",
    "\n",
    "        else:\n",
    "            print(f'{self.name} не стал есть {food.name}')\n",
    "            Animal.alive = False # <-- пожалуйста, НЕ убивайте ВСЕХ животных (используйте self)  \n"
   ]
  },
  {
   "cell_type": "markdown",
   "id": "5402b886-331c-4408-a2e1-534d1f4545de",
   "metadata": {},
   "source": [
    " "
   ]
  },
  {
   "cell_type": "markdown",
   "id": "bfdd39e9-0ee2-4530-9119-d04b5fe56933",
   "metadata": {},
   "source": [
    "### new "
   ]
  },
  {
   "cell_type": "code",
   "execution_count": 2,
   "id": "d2f824fd-8250-4c14-b73b-f29f4af2e6d5",
   "metadata": {},
   "outputs": [
    {
     "name": "stdout",
     "output_type": "stream",
     "text": [
      "Создание объекта <class '__main__.MyClass'>\n",
      "Инициализация объекта\n",
      "Создание объекта <class '__main__.MyClass'>\n",
      "Инициализация объекта\n",
      "4712267472 4712207376\n"
     ]
    }
   ],
   "source": [
    "class MyClass:\n",
    "    def __new__(cls, *args, **kwargs):\n",
    "        print(\"Создание объекта\", cls) # <--- расширение метода __new__\n",
    "        instance = super().__new__(cls) \n",
    "        return instance\n",
    "    \n",
    "    def __init__(self, value):\n",
    "        print(\"Инициализация объекта\")\n",
    "        self.value = value\n",
    "\n",
    "# Создаем экземпляр класса\n",
    "obj = MyClass(10)\n",
    "obj2 = MyClass(10)\n",
    "print(id(obj), id(obj2))"
   ]
  },
  {
   "cell_type": "markdown",
   "id": "5fc0fa53-9c28-4bf9-8942-cda20b3d3745",
   "metadata": {},
   "source": [
    " "
   ]
  },
  {
   "cell_type": "markdown",
   "id": "71681634-10b9-48d2-9c24-cb16a26c7ec0",
   "metadata": {},
   "source": [
    "#### Реализация патерна программирования Singleton"
   ]
  },
  {
   "cell_type": "code",
   "execution_count": 3,
   "id": "83ce044f-e060-4231-976c-aa5ff6cbce1d",
   "metadata": {},
   "outputs": [
    {
     "name": "stdout",
     "output_type": "stream",
     "text": [
      "10\n",
      "10\n",
      "True\n"
     ]
    }
   ],
   "source": [
    "class Singleton:\n",
    "    _instance = None\n",
    "\n",
    "    def __new__(cls, *args, **kwargs):\n",
    "        if cls._instance is None:\n",
    "            cls._instance = super().__new__(cls)\n",
    "        return cls._instance\n",
    "\n",
    "    def __init__(self, value):\n",
    "        if not hasattr(self, '_initialized'):\n",
    "            self.value = value\n",
    "            self._initialized = True\n",
    "\n",
    "# Проверяем работу\n",
    "s1 = Singleton(10)\n",
    "s2 = Singleton(20)\n",
    "\n",
    "print(s1.value)  # Output: 10\n",
    "print(s2.value)  # Output: 10\n",
    "print(s1 is s2)  # Output: True"
   ]
  },
  {
   "cell_type": "markdown",
   "id": "f7c4d96c-6033-454f-bcb0-cf992df19ae1",
   "metadata": {},
   "source": [
    " "
   ]
  },
  {
   "cell_type": "markdown",
   "id": "015fbef3-8ec5-4c6c-9ffc-a710536f17ab",
   "metadata": {},
   "source": [
    "## Наследование классов "
   ]
  },
  {
   "cell_type": "markdown",
   "id": "09b9ac4e-02ea-4473-90e5-d9a4165de1b5",
   "metadata": {},
   "source": [
    "**Мои вопросы**\n",
    "- object \n",
    "- mro \n",
    "- пример с алмазной проблемой \n",
    "- доступ до методов и атрибутам родительского класса (публичный, приватный , защищенный)\n",
    "- множественное наследование "
   ]
  },
  {
   "cell_type": "markdown",
   "id": "008ec959-3231-4432-b1e1-6546c35d90be",
   "metadata": {},
   "source": [
    "#### супер (алмазная проблема)"
   ]
  },
  {
   "cell_type": "code",
   "execution_count": null,
   "id": "3656ea9e-eb2f-4d18-b349-18aef06da4cd",
   "metadata": {},
   "outputs": [],
   "source": [
    "class A:\n",
    "    def greet(self):\n",
    "        print(\"Hello from A\") # <---- (4)\n",
    "\n",
    "class B(A):\n",
    "    def greet(self):\n",
    "        print(\"Hello from B\") # <---- наш первый родитель (2)\n",
    "        A.greet(self)  # Вызов метода greet класса A\n",
    "\n",
    "class C(A):\n",
    "    pass\n",
    "    def greet(self):\n",
    "        print(\"Hello from C\") # <---- (3)\n",
    "        super().greet()  # Вызов метода greet класса A\n",
    "        \n",
    "\n",
    "class D(B, C):\n",
    "    def greet(self):\n",
    "        print(\"Hello from D\") # <---- в первую очередь делаем это (1)\n",
    "        super().greet()  # Вызов метода greet классов B и C\n",
    "\n",
    "d = D()\n",
    "print(D.mro()) # <---- сюда вставляем класс\n",
    "d.greet()"
   ]
  },
  {
   "cell_type": "markdown",
   "id": "578f7581-0e11-45bc-b435-6d844dbc51f1",
   "metadata": {},
   "source": [
    "#### Пример, если мы не прописали супер "
   ]
  },
  {
   "cell_type": "code",
   "execution_count": 22,
   "id": "803c3780-f60e-4d49-bf1b-b9d637184805",
   "metadata": {},
   "outputs": [
    {
     "name": "stdout",
     "output_type": "stream",
     "text": [
      "[<class '__main__.D'>, <class '__main__.B'>, <class '__main__.C'>, <class '__main__.A'>, <class 'object'>]\n",
      "Hello from D\n",
      "Hello from B\n",
      "Hello from A\n"
     ]
    }
   ],
   "source": [
    "class A:\n",
    "    def greet(self):\n",
    "        print(\"Hello from A\") # <---- (4)\n",
    "\n",
    "class B(A):\n",
    "    def greet(self):\n",
    "        print(\"Hello from B\") # <---- наш первый родитель (2)\n",
    "        A.greet(self)  # Вызов метода greet класса A\n",
    "\n",
    "class C(A):\n",
    "    pass\n",
    "    # def greet(self):\n",
    "    #     print(\"Hello from C\") # <---- (3)\n",
    "    #     # super().greet()  # Вызов метода greet класса A\n",
    "        \n",
    "\n",
    "class D(B, C):\n",
    "    def greet(self):\n",
    "        print(\"Hello from D\") # <---- в первую очередь делаем это (1)\n",
    "        super().greet()  # Вызов метода greet классов B и C\n",
    "\n",
    "d = D()\n",
    "print(D.mro()) # <---- сюда вставляем класс\n",
    "d.greet()"
   ]
  },
  {
   "cell_type": "markdown",
   "id": "5822f5f9-ff0c-41b3-b0fe-4b81ef27f6ef",
   "metadata": {},
   "source": [
    "#### Пегас (так мы не используем наследование)"
   ]
  },
  {
   "cell_type": "code",
   "execution_count": null,
   "id": "252a3657-4f80-4f74-a7c0-f71626b9cfe2",
   "metadata": {},
   "outputs": [],
   "source": [
    "class Pegasus(Horse, Eagle):   \n",
    "    \n",
    "    def __init__(self):\n",
    "        Horse.__init__(self)        \n",
    "        Eagle.__init__(self) # <--- так мы не используем наследование \n",
    "        \n",
    "    def move(self, dx, dy):\n",
    "        self.run(dx)        \n",
    "        self.fly(dy)\n",
    "        \n",
    "    def get_pos(self):\n",
    "        return self.x_distance, self.y_distance\n",
    "        \n",
    "    def voce(self):        \n",
    "        print(self.sound)\n",
    "        "
   ]
  },
  {
   "cell_type": "markdown",
   "id": "9bd3190f-6e2d-4db6-8d01-14fdcb25f4d0",
   "metadata": {},
   "source": [
    " "
   ]
  },
  {
   "cell_type": "markdown",
   "id": "59f9bbcb-54f0-47d8-a76c-7bb4bf3f8b3a",
   "metadata": {},
   "source": [
    "### Публичные, защищенные и приватные атрибуты / методы "
   ]
  },
  {
   "cell_type": "markdown",
   "id": "576cd6e2-ef10-4ed9-b136-c9b8456a2833",
   "metadata": {},
   "source": [
    "#### Публичные атрибуты / методы\n",
    "- Имена, которые не начинаются с нижнего подчёркивания.\n",
    "- Доступны отовсюду: из классов-наследников и вне класса."
   ]
  },
  {
   "cell_type": "code",
   "execution_count": 31,
   "id": "3135b8eb-e25c-4fc1-aedc-6b72218e8db7",
   "metadata": {},
   "outputs": [
    {
     "name": "stdout",
     "output_type": "stream",
     "text": [
      "Public method\n",
      "10\n"
     ]
    }
   ],
   "source": [
    "class Parent:\n",
    "\n",
    "    def __init__(self):\n",
    "        self.age = 10 \n",
    "    \n",
    "    def public_method(self):\n",
    "        return \"Public method\"\n",
    "\n",
    "class Child(Parent):\n",
    "    pass \n",
    "\n",
    "child = Child()\n",
    "print(child.public_method())\n",
    "print(child.age)"
   ]
  },
  {
   "cell_type": "markdown",
   "id": "a68fa66b-6d68-4541-8e96-9c99ad0cd436",
   "metadata": {},
   "source": [
    " "
   ]
  },
  {
   "cell_type": "markdown",
   "id": "49bdcfe9-8cf4-403e-9e40-f5436d863fe6",
   "metadata": {},
   "source": [
    "#### Защищенные атрибуты / методы \n",
    "- Имена, которые начинаются с одного нижнего подчёркивания (например, _protected).\n",
    "- Доступны внутри класса и его подклассов, но не рекомендуется использовать их вне этих классов."
   ]
  },
  {
   "cell_type": "code",
   "execution_count": 33,
   "id": "e7cfb049-7c41-4cdf-9970-aa61742fc27e",
   "metadata": {},
   "outputs": [
    {
     "name": "stdout",
     "output_type": "stream",
     "text": [
      "('Protected attribute', 'Protected method')\n",
      "Protected method\n"
     ]
    }
   ],
   "source": [
    "class Parent:\n",
    "    def __init__(self):\n",
    "        self._protected = \"Protected attribute\"\n",
    "\n",
    "    def _protected_method(self):\n",
    "        return \"Protected method\"\n",
    "\n",
    "class Child(Parent):\n",
    "    def access_protected(self):\n",
    "        return self._protected, self._protected_method()\n",
    "\n",
    "child = Child()\n",
    "print(child.access_protected())  # Output: ('Protected attribute', 'Protected method')\n",
    "\n",
    "print(child._protected_method())"
   ]
  },
  {
   "cell_type": "markdown",
   "id": "aa2be887-942d-4bf7-872a-eacaf4122ec9",
   "metadata": {},
   "source": [
    " "
   ]
  },
  {
   "cell_type": "markdown",
   "id": "2c1a41c2-be4b-42d9-9f2e-f3fa9ab9344d",
   "metadata": {},
   "source": [
    "#### Приватные атрибуты / методы \n",
    "- Имена, которые начинаются с двух нижних подчёркиваний (например, __private).\n",
    "- Доступны только внутри класса, в котором они определены. Python использует \"name mangling\" для приватных атрибутов и методов, что позволяет избежать их случайного доступа из подклассов."
   ]
  },
  {
   "cell_type": "code",
   "execution_count": 34,
   "id": "78e0aea2-9da1-4149-9904-b4844e46239b",
   "metadata": {},
   "outputs": [
    {
     "name": "stdout",
     "output_type": "stream",
     "text": [
      "('Private attribute', 'Private method')\n"
     ]
    },
    {
     "ename": "AttributeError",
     "evalue": "'Child' object has no attribute '_Child__private'",
     "output_type": "error",
     "traceback": [
      "\u001b[0;31m---------------------------------------------------------------------------\u001b[0m",
      "\u001b[0;31mAttributeError\u001b[0m                            Traceback (most recent call last)",
      "Cell \u001b[0;32mIn[34], line 23\u001b[0m\n\u001b[1;32m     20\u001b[0m \u001b[38;5;28mprint\u001b[39m(parent\u001b[38;5;241m.\u001b[39mget_private())  \u001b[38;5;66;03m# Output: ('Private attribute', 'Private method')\u001b[39;00m\n\u001b[1;32m     22\u001b[0m child \u001b[38;5;241m=\u001b[39m Child()\n\u001b[0;32m---> 23\u001b[0m \u001b[38;5;28mprint\u001b[39m(child\u001b[38;5;241m.\u001b[39maccess_private())\n",
      "Cell \u001b[0;32mIn[34], line 14\u001b[0m, in \u001b[0;36mChild.access_private\u001b[0;34m(self)\u001b[0m\n\u001b[1;32m     12\u001b[0m \u001b[38;5;28;01mdef\u001b[39;00m \u001b[38;5;21maccess_private\u001b[39m(\u001b[38;5;28mself\u001b[39m):\n\u001b[1;32m     13\u001b[0m     \u001b[38;5;66;03m# Неправильно: AttributeError\u001b[39;00m\n\u001b[0;32m---> 14\u001b[0m     \u001b[38;5;28;01mreturn\u001b[39;00m \u001b[38;5;28mself\u001b[39m\u001b[38;5;241m.\u001b[39m__private, \u001b[38;5;28mself\u001b[39m\u001b[38;5;241m.\u001b[39m__private_method()\n",
      "\u001b[0;31mAttributeError\u001b[0m: 'Child' object has no attribute '_Child__private'"
     ]
    }
   ],
   "source": [
    "class Parent:\n",
    "    def __init__(self, age, name):\n",
    "        self.__private = \"Private attribute\"\n",
    "        self.__age = age\n",
    "        self.__name = name \n",
    "\n",
    "    def __private_method(self):\n",
    "        return \"Private method\"\n",
    "\n",
    "    def get_private(self):\n",
    "        return self.__private, self.__private_method()\n",
    "\n",
    "class Child(Parent):\n",
    "    def access_private(self):\n",
    "        # Неправильно: AttributeError\n",
    "        # return self.__private, self.__private_method()\n",
    "\n",
    "        # Правильно: доступ через name mangling\n",
    "        return self._Parent__private, self._Parent__private_method() \n",
    "\n",
    "parent = Parent()\n",
    "print(parent.get_private())  # Output: ('Private attribute', 'Private method')\n",
    "\n",
    "child = Child()\n",
    "print(child.access_private())  # Output: ('Private attribute', 'Private method')\n",
    "\n"
   ]
  },
  {
   "cell_type": "markdown",
   "id": "fc4ce173-8e3d-4cac-9ee3-431b78ae8b95",
   "metadata": {},
   "source": [
    " "
   ]
  },
  {
   "cell_type": "markdown",
   "id": "018f8bac-d3dc-45b2-94c5-df0d36592497",
   "metadata": {},
   "source": [
    "### Геттеры и сеттеры \n",
    "Геттеры и сеттеры — это методы, которые позволяют контролировать доступ к атрибутам объекта. Они используются для инкапсуляции, что помогает защитить данные и управлять их изменением."
   ]
  },
  {
   "cell_type": "markdown",
   "id": "102e758a-4bd8-481e-9ef5-01777a119ef3",
   "metadata": {},
   "source": [
    "#### Прямой доступ (без геттеров и сеттеров)"
   ]
  },
  {
   "cell_type": "code",
   "execution_count": 35,
   "id": "51189794-a938-4709-8588-ddd53c7d8065",
   "metadata": {},
   "outputs": [
    {
     "name": "stdout",
     "output_type": "stream",
     "text": [
      "Alice\n",
      "30\n",
      "-5\n"
     ]
    }
   ],
   "source": [
    "class Person:\n",
    "    def __init__(self, name, age):\n",
    "        self.name = name\n",
    "        self.age = age\n",
    "\n",
    "person = Person(\"Alice\", 30)\n",
    "print(person.name)  # Вывод: Alice\n",
    "print(person.age)   # Вывод: 30\n",
    "\n",
    "person.age = -5  # Некорректное значение\n",
    "print(person.age)  # Вывод: -5"
   ]
  },
  {
   "cell_type": "markdown",
   "id": "c780e0db-4c7a-438a-a1a2-ea3c05fb3b7a",
   "metadata": {},
   "source": [
    " "
   ]
  },
  {
   "cell_type": "markdown",
   "id": "88675171-6660-4503-aa28-8220dd923f7f",
   "metadata": {},
   "source": [
    "#### Геттеры и сеттеры в виде простых методов "
   ]
  },
  {
   "cell_type": "code",
   "execution_count": null,
   "id": "b3e57eed-02cb-4aac-999b-161fab5a4525",
   "metadata": {},
   "outputs": [],
   "source": [
    "class Person:\n",
    "    def __init__(self, name, age):\n",
    "        self._name = name # \n",
    "        self._age = age\n",
    "\n",
    "    def get_name(self): # геттер\n",
    "        return self._name\n",
    "\n",
    "    def set_name(self, name): # сеттер\n",
    "        self._name = name\n",
    "\n",
    "    def get_age(self): # геттер\n",
    "        return self._age\n",
    "\n",
    "    def set_age(self, age): # сеттер (+проверка на валидность)\n",
    "        if age >= 0:\n",
    "            self._age = age\n",
    "        else:\n",
    "            raise ValueError(\"Age cannot be negative\")\n",
    "\n",
    "person = Person(\"Alice\", 30)\n",
    "\n",
    "print(person.get_name())  # Вывод: Alice\n",
    "print(person.get_age())   # Вывод: 30\n",
    "\n",
    "\n",
    "person.set_age(25)\n",
    "print(person.get_age())   # Вывод: 25\n",
    "\n",
    "# person.set_age(-5)  # Выдаст ошибку ValueError: Age cannot be negative"
   ]
  },
  {
   "cell_type": "markdown",
   "id": "5a8bacd3-8d7f-42b1-b57d-2c202c733d51",
   "metadata": {},
   "source": [
    " "
   ]
  },
  {
   "cell_type": "markdown",
   "id": "70f108a7-28c8-4636-8c0b-b1e724f5af8f",
   "metadata": {},
   "source": [
    "#### Геттеры и сеттеры с помощью @property"
   ]
  },
  {
   "cell_type": "code",
   "execution_count": 42,
   "id": "cbcd05d3-c863-41ff-98d4-909c8df97be3",
   "metadata": {},
   "outputs": [
    {
     "name": "stdout",
     "output_type": "stream",
     "text": [
      "Alice\n",
      "30\n",
      "25\n"
     ]
    },
    {
     "ename": "AttributeError",
     "evalue": "property 'age' of 'Person' object has no deleter",
     "output_type": "error",
     "traceback": [
      "\u001b[0;31m---------------------------------------------------------------------------\u001b[0m",
      "\u001b[0;31mAttributeError\u001b[0m                            Traceback (most recent call last)",
      "Cell \u001b[0;32mIn[42], line 43\u001b[0m\n\u001b[1;32m     39\u001b[0m \u001b[38;5;28mprint\u001b[39m(person\u001b[38;5;241m.\u001b[39mage)   \u001b[38;5;66;03m# Вывод: 25\u001b[39;00m\n\u001b[1;32m     41\u001b[0m \u001b[38;5;66;03m# person.age = -5  # Выдаст ошибку ValueError: Age cannot be negative\u001b[39;00m\n\u001b[0;32m---> 43\u001b[0m \u001b[38;5;28;01mdel\u001b[39;00m person\u001b[38;5;241m.\u001b[39mage\n",
      "\u001b[0;31mAttributeError\u001b[0m: property 'age' of 'Person' object has no deleter"
     ]
    }
   ],
   "source": [
    "class Person:\n",
    "    def __init__(self, name, age):\n",
    "        self._name = name\n",
    "        self._age = age\n",
    "\n",
    "    @property # геттер \n",
    "    def name(self):\n",
    "        return self._name\n",
    "\n",
    "    @name.setter # <----- name это КАСТОМНОЕ название (=мы его задаем) \n",
    "    def name(self, name):\n",
    "        self._name = name\n",
    "\n",
    "    @property # геттер \n",
    "    def age(self):\n",
    "        return self._age\n",
    "\n",
    "    @age.setter # сеттер \n",
    "    def age(self, age):\n",
    "        if age >= 0:\n",
    "            self._age = age\n",
    "        else:\n",
    "            raise ValueError(\"Age cannot be negative\")\n",
    "\n",
    "    @age.deleter\n",
    "    def age(self):\n",
    "        del self._age\n",
    "\n",
    "\n",
    "person = Person(name=\"Alice\", age=30)\n",
    "print(person.name)  # Вывод: Alice\n",
    "print(person.age)   # Вывод: 30\n",
    "\n",
    "person.age = 25\n",
    "print(person.age)   # Вывод: 25\n",
    "\n",
    "# person.age = -5  # Выдаст ошибку ValueError: Age cannot be negative\n",
    "\n",
    "del person.age\n",
    "# print(person.age)"
   ]
  },
  {
   "cell_type": "markdown",
   "id": "d38ad06f-22d8-4694-ba78-97fad862f1b5",
   "metadata": {},
   "source": [
    "- Геттеры и сеттеры обеспечивают контроль доступа и изменение атрибутов.\n",
    "- Публичные атрибуты доступны отовсюду.\n",
    "- Защищенные атрибуты предназначены для использования внутри класса и его подклассов.\n",
    "- Приватные атрибуты предназначены для использования только внутри класса и защищены от случайного доступа с помощью мэнглинга имен.\n",
    "- Декораторы @property позволяют создавать геттеры и сеттеры, которые можно использовать как атрибуты."
   ]
  },
  {
   "cell_type": "markdown",
   "id": "57fbf924-f78c-4c52-bcac-d6f77dffe335",
   "metadata": {},
   "source": [
    "  "
   ]
  },
  {
   "cell_type": "markdown",
   "id": "dfc91cf7-ba6f-45ac-b615-6ca4e70e01b4",
   "metadata": {},
   "source": [
    "## Новая информация \n",
    "\n",
    "В Python, методы класса (`classmethod`) и статические методы (`staticmethod`) используются для определения методов, которые должны взаимодействовать с классом, а не с экземпляром класса. Это значит, что они не требуют создания объекта класса для их вызова. Давайте рассмотрим каждый из этих методов на примерах.\n"
   ]
  },
  {
   "cell_type": "markdown",
   "id": "1e3dca64-86a8-4921-9867-e5fce9f4842e",
   "metadata": {},
   "source": [
    "### 1. `classmethod` \n",
    "Метод класса получает класс в качестве первого аргумента, обычно обозначаемого как `cls`. Это позволяет методу класса создавать экземпляры класса или обращаться к атрибутам класса, что полезно для фабричных функций и методов, которые должны знать класс, к которому они принадлежат."
   ]
  },
  {
   "cell_type": "code",
   "execution_count": null,
   "id": "2a6c2e0a-30df-48ec-aff7-e684bb98ebe0",
   "metadata": {},
   "outputs": [],
   "source": [
    "class Employee:\n",
    "    num_of_employees = 0\n",
    "\n",
    "    def __init__(self, name, salary):\n",
    "        self.name = name\n",
    "        self.salary = salary\n",
    "        Employee.num_of_employees += 1\n",
    "\n",
    "    def example(cls, name):\n",
    "        pass\n",
    "\n",
    "    @classmethod\n",
    "    def set_raise_amt(cls, amount):\n",
    "        cls.raise_amt = amount\n",
    "\n",
    "    @classmethod\n",
    "    def from_string(cls, emp_str):\n",
    "        name, salary = emp_str.split('-')\n",
    "        return cls(name, int(salary))\n",
    "\n",
    "# Использование метода класса для создания объекта из строки\n",
    "emp1 = Employee.from_string(    'John-50000')\n",
    "print(emp1.name)  # Вывод: John\n",
    "print(emp1.salary)  # Вывод: 50000\n",
    "\n",
    "# Установка общего значения через classmethod\n",
    "Employee.set_raise_amt(1.05)\n",
    "print(Employee.raise_amt)  # Вывод: 1.05\n"
   ]
  },
  {
   "cell_type": "markdown",
   "id": "d0b9add9-c0dc-404b-8105-317663656f82",
   "metadata": {},
   "source": [
    " "
   ]
  },
  {
   "cell_type": "markdown",
   "id": "258ab2a0-95c9-4e5c-9763-86371298c145",
   "metadata": {},
   "source": [
    "### 2. `staticmethod`\n",
    "Статический метод не получает специальных аргументов от класса (`cls`) или экземпляра (`self`). Он ведет себя как обычная функция, но организована в классе для удобства и логической группировки."
   ]
  },
  {
   "cell_type": "code",
   "execution_count": 43,
   "id": "b94b067e-e154-46d7-9824-0af56e457ede",
   "metadata": {},
   "outputs": [
    {
     "name": "stdout",
     "output_type": "stream",
     "text": [
      "8\n",
      "12\n"
     ]
    },
    {
     "data": {
      "text/plain": [
       "3"
      ]
     },
     "execution_count": 43,
     "metadata": {},
     "output_type": "execute_result"
    }
   ],
   "source": [
    "class Calculator:\n",
    "\n",
    "    def example(self):\n",
    "        print(1)\n",
    "    \n",
    "    @staticmethod\n",
    "    def add(x, y):\n",
    "        return x + y\n",
    "\n",
    "    @staticmethod\n",
    "    def multiply(x, y):\n",
    "        return x * y\n",
    "\n",
    "# Вызов статического метода без создания экземпляра класса\n",
    "result_add = Calculator.add(5, 3)\n",
    "result_multiply = Calculator.multiply(4, 3)\n",
    "print(result_add)  # Вывод: 8\n",
    "print(result_multiply)  # Вывод: 12\n",
    "\n",
    "ex = Calculator() \n",
    "\n",
    "ex.add(1, 2)"
   ]
  },
  {
   "cell_type": "markdown",
   "id": "2b5a8e28-01ad-4470-b047-852c359ed119",
   "metadata": {},
   "source": [
    " "
   ]
  },
  {
   "cell_type": "markdown",
   "id": "9afd0e71-fc27-4908-9b0d-3ec2adb97621",
   "metadata": {},
   "source": [
    "### 3. `abstractmethod`\n",
    "В Python абстрактные классы используются для определения интерфейсов, которые должны быть реализованы подклассами. Для этого используется модуль `abc` (Abstract Base Classes). Абстрактные классы не могут быть инстанцированы и могут содержать один или несколько абстрактных методов, которые должны быть реализованы в подклассах.\n",
    "\n",
    "Вот пример использования абстрактного класса в Python:\n",
    "\n",
    "```python\n",
    "from abc import ABC, abstractmethod\n",
    "\n",
    "class Animal(ABC):\n",
    "    @abstractmethod\n",
    "    def make_sound(self):\n",
    "        \"\"\"Метод, который должен быть реализован в подклассе\"\"\"\n",
    "        pass\n",
    "\n",
    "    @abstractmethod\n",
    "    def move(self):\n",
    "        \"\"\"Ещё один метод, который должен быть реализован в подклассе\"\"\"\n",
    "        pass\n",
    "\n",
    "class Dog(Animal):\n",
    "    def make_sound(self):\n",
    "        return \"Bark\"\n",
    "\n",
    "    def move(self):\n",
    "        return \"Runs\"\n",
    "\n",
    "class Cat(Animal):\n",
    "    def make_sound(self):\n",
    "        return \"Meow\"\n",
    "\n",
    "    def move(self):\n",
    "        return \"Walks gracefully\"\n",
    "\n",
    "# Проверка\n",
    "dog = Dog()\n",
    "cat = Cat()\n",
    "\n",
    "print(dog.make_sound())  # Output: Bark\n",
    "print(dog.move())  # Output: Runs\n",
    "\n",
    "print(cat.make_sound())  # Output: Meow\n",
    "print(cat.move())  # Output: Walks gracefully\n",
    "\n",
    "# Невозможно создать экземпляр абстрактного класса\n",
    "try:\n",
    "    animal = Animal()\n",
    "except TypeError as e:\n",
    "    print(e)  # Output: Can't instantiate abstract class Animal with abstract methods make_sound, move\n",
    "```\n",
    "\n",
    "### Объяснение\n",
    "\n",
    "1. **Создание абстрактного класса**:\n",
    "   - `Animal` наследует от `ABC` (Abstract Base Class), что делает его абстрактным классом.\n",
    "   - Методы, декорированные с помощью `@abstractmethod`, определяют интерфейс, который должен быть реализован в подклассах.\n",
    "   - Пример:\n",
    "     ```python\n",
    "     class Animal(ABC):\n",
    "         @abstractmethod\n",
    "         def make_sound(self):\n",
    "             pass\n",
    "         \n",
    "         @abstractmethod\n",
    "         def move(self):\n",
    "             pass\n",
    "     ```\n",
    "\n",
    "2. **Создание подклассов**:\n",
    "   - Подклассы `Dog` и `Cat` наследуют от абстрактного класса `Animal` и реализуют все абстрактные методы.\n",
    "   - Пример:\n",
    "     ```python\n",
    "     class Dog(Animal):\n",
    "         def make_sound(self):\n",
    "             return \"Bark\"\n",
    "         \n",
    "         def move(self):\n",
    "             return \"Runs\"\n",
    "\n",
    "     class Cat(Animal):\n",
    "         def make_sound(self):\n",
    "             return \"Meow\"\n",
    "         \n",
    "         def move(self):\n",
    "             return \"Walks gracefully\"\n",
    "     ```\n",
    "\n",
    "3. **Попытка создать экземпляр абстрактного класса**:\n",
    "   - Попытка создать экземпляр абстрактного класса `Animal` вызовет ошибку `TypeError`, так как абстрактные методы не реализованы.\n",
    "   - Пример:\n",
    "     ```python\n",
    "     try:\n",
    "         animal = Animal()\n",
    "     except TypeError as e:\n",
    "         print(e)\n",
    "     ```\n",
    "\n",
    "Абстрактные классы полезны для определения интерфейсов и обеспечения того, что подклассы реализуют все необходимые методы, что помогает поддерживать структуру и целостность кода"
   ]
  },
  {
   "cell_type": "markdown",
   "id": "d16044c7-c12f-408d-8114-a7fc235a91c0",
   "metadata": {},
   "source": [
    " "
   ]
  }
 ],
 "metadata": {
  "kernelspec": {
   "display_name": "Python 3 (ipykernel)",
   "language": "python",
   "name": "python3"
  },
  "language_info": {
   "codemirror_mode": {
    "name": "ipython",
    "version": 3
   },
   "file_extension": ".py",
   "mimetype": "text/x-python",
   "name": "python",
   "nbconvert_exporter": "python",
   "pygments_lexer": "ipython3",
   "version": "3.11.8"
  }
 },
 "nbformat": 4,
 "nbformat_minor": 5
}
