{
 "cells": [
  {
   "cell_type": "markdown",
   "id": "7b7ddf08-14b0-444c-b663-81c2b00de655",
   "metadata": {},
   "source": [
    "# Дополнительный вебинар 2024-08-26"
   ]
  },
  {
   "cell_type": "markdown",
   "id": "e96afe9d-0da1-4301-bf49-787703ce3a65",
   "metadata": {},
   "source": [
    "## Рекурсия "
   ]
  },
  {
   "cell_type": "markdown",
   "id": "f4b34c1c-d9b9-49ee-9ec4-a039f0e534b0",
   "metadata": {},
   "source": [
    "### Факториал"
   ]
  },
  {
   "cell_type": "code",
   "execution_count": 1,
   "id": "86ea315f-a170-49eb-bfdc-769ef242394c",
   "metadata": {},
   "outputs": [
    {
     "name": "stdout",
     "output_type": "stream",
     "text": [
      "Факториал числа 5 равен 120\n"
     ]
    }
   ],
   "source": [
    "def factorial(n):\n",
    "    # Базовый случай: факториал 0 равен 1\n",
    "    if n == 0:\n",
    "        return 1\n",
    "    # Рекурсивный случай: n! = n * (n-1)!\n",
    "    else:\n",
    "        return n * factorial(n - 1) # 5 * (4 * factorial(3))\n",
    "\n",
    "1) n = 5 return 120\n",
    "2) n = 4 return 24\n",
    "3) n = 3 return 6\n",
    "4) n = 2 return 2\n",
    "5) n = 1 return 1\n",
    "6) n = 0 return 1\n",
    "\n",
    "# Пример использования функции\n",
    "num = 5\n",
    "result = factorial(num)\n",
    "print(f\"Факториал числа {num} равен {result}\")"
   ]
  },
  {
   "cell_type": "markdown",
   "id": "f137b599-6685-43f6-90c3-b232e3c9ecd9",
   "metadata": {},
   "source": [
    " "
   ]
  },
  {
   "cell_type": "markdown",
   "id": "6869286c-747b-4dd6-aab9-6db8274989ac",
   "metadata": {},
   "source": [
    "### Задача со Stepik"
   ]
  },
  {
   "cell_type": "markdown",
   "id": "2a7fb68b-c379-4ae5-a734-21d0b752c5cc",
   "metadata": {},
   "source": [
    "**Определите функцию print_from, которая принимает одно натуральное число n и распечатывает на экране убывающую последовательность целых чисел от n до 1 включительно. Каждое число необходимо выводить на отдельной строке.**"
   ]
  },
  {
   "cell_type": "code",
   "execution_count": 53,
   "id": "af29aa8f-e1b2-48ae-946a-4d109f3b9cf9",
   "metadata": {},
   "outputs": [
    {
     "name": "stdout",
     "output_type": "stream",
     "text": [
      "5\n",
      "4\n",
      "3\n",
      "2\n",
      "1\n"
     ]
    }
   ],
   "source": [
    "def print_from(n: int) -> None:\n",
    "    if n == 1:\n",
    "        print(1)\n",
    "    else:\n",
    "        print(n)\n",
    "        print_from(n - 1)\n",
    "\n",
    "print_from(5)"
   ]
  },
  {
   "cell_type": "raw",
   "id": "37c6e49e-1135-4caf-9346-7c64f567118a",
   "metadata": {},
   "source": [
    "0! = 1 <--- база рекурсии \n",
    "1! = 1\n",
    "2! = 1 * 2 \n",
    "3! = 1 * 2 * 3 \n",
    "4! = 1 * 2 * 3 * 4"
   ]
  },
  {
   "cell_type": "markdown",
   "id": "b529b9e0-f781-4eda-80ba-cbe424a491c2",
   "metadata": {},
   "source": [
    " "
   ]
  },
  {
   "cell_type": "markdown",
   "id": "ecfcb7a6-e916-4567-84c6-ab814c975895",
   "metadata": {},
   "source": [
    "## Атрибут класса"
   ]
  },
  {
   "cell_type": "markdown",
   "id": "fa3cc0e9-b609-4b55-85e2-5cfe01bc4bc7",
   "metadata": {},
   "source": [
    "## Зачем нужны параметры в init"
   ]
  },
  {
   "cell_type": "code",
   "execution_count": 27,
   "id": "724e6845-7a93-4a57-b63f-6b874e5d6d1d",
   "metadata": {},
   "outputs": [
    {
     "name": "stdout",
     "output_type": "stream",
     "text": [
      "[] 10 M\n"
     ]
    }
   ],
   "source": [
    "class ClassName: \n",
    "\n",
    "    name = []\n",
    "\n",
    "    def __init__(self, age, gender):\n",
    "        # self.name = name\n",
    "        self.age = age\n",
    "        self.gender = gender\n",
    "        self.head = True\n",
    "\n",
    "    \n",
    "\n",
    "x = ClassName(age=10, gender='M')\n",
    "\n",
    "print(x.name, x.age, x.gender)"
   ]
  },
  {
   "cell_type": "markdown",
   "id": "d0378fc1-cf6b-475b-b54c-6f7af5659618",
   "metadata": {},
   "source": [
    " "
   ]
  },
  {
   "cell_type": "markdown",
   "id": "9876ea5a-654a-49b3-bdb2-f11ce325b166",
   "metadata": {},
   "source": [
    "## Атрибут класса (неизменяемый тип данных)"
   ]
  },
  {
   "cell_type": "code",
   "execution_count": 33,
   "id": "69e5fe23-1d48-47de-afae-5bc91d81ed2b",
   "metadata": {},
   "outputs": [
    {
     "name": "stdout",
     "output_type": "stream",
     "text": [
      "4422444816 4422444816 4422444816\n",
      "4341559488 4422444816 4422444816\n",
      "4341559488 4341559168 4341559168\n"
     ]
    }
   ],
   "source": [
    "class ClassName: \n",
    "\n",
    "    name = 1_000_000 #  общий белый мелок \n",
    "\n",
    "    def __init__(self, age, gender):\n",
    "        self.age = age\n",
    "        self.gender = gender\n",
    "        self.head = True\n",
    "\n",
    "    \n",
    "\n",
    "x = ClassName(age=10, gender='M')\n",
    "y = ClassName(age=10, gender='M')\n",
    "\n",
    "# print(x.name, y.name)\n",
    "print(id(x.name), id(y.name), id(ClassName.name))\n",
    "\n",
    "x.name = 10\n",
    "print(id(x.name), id(y.name), id(ClassName.name))\n",
    "\n",
    "ClassName.name = 0 \n",
    "print(id(x.name), id(y.name), id(ClassName.name))"
   ]
  },
  {
   "cell_type": "markdown",
   "id": "fac9291a-e6e1-4809-a265-a6c420ada820",
   "metadata": {},
   "source": [
    " "
   ]
  },
  {
   "cell_type": "markdown",
   "id": "f774d2ec-903b-43f8-abd0-ca50816eaf48",
   "metadata": {},
   "source": [
    "## Атрибут класса (изменяемый тип данных)"
   ]
  },
  {
   "cell_type": "code",
   "execution_count": 39,
   "id": "0cdc6821-9628-499a-be25-b023476cf229",
   "metadata": {},
   "outputs": [
    {
     "name": "stdout",
     "output_type": "stream",
     "text": [
      "4422012992 4422012992 4422012992\n",
      "[10] [10] [10]\n",
      "4422012992 4422012992 4422012992\n",
      "[5] [10] [10]\n",
      "4419195136 4422012992 4422012992\n",
      "[5] [100, 100] [100, 100]\n",
      "4419195136 4406137024 4406137024\n"
     ]
    }
   ],
   "source": [
    "class ClassName: \n",
    "\n",
    "    name = [] #  общий белый мелок \n",
    "\n",
    "    def __init__(self, age, gender):\n",
    "        self.age = age\n",
    "        self.gender = gender\n",
    "        self.head = True\n",
    "\n",
    "    \n",
    "\n",
    "x = ClassName(age=10, gender='M')\n",
    "y = ClassName(age=10, gender='M')\n",
    "\n",
    "# print(x.name, y.name)\n",
    "print(id(x.name), id(y.name), id(ClassName.name))\n",
    "\n",
    "x.name.append(10)\n",
    "print(x.name, y.name, ClassName.name)\n",
    "print(id(x.name), id(y.name), id(ClassName.name))\n",
    "\n",
    "x.name = [5]\n",
    "print(x.name, y.name, ClassName.name)\n",
    "print(id(x.name), id(y.name), id(ClassName.name))\n",
    "\n",
    "ClassName.name = [100, 100] \n",
    "print(x.name, y.name, ClassName.name)\n",
    "print(id(x.name), id(y.name), id(ClassName.name))"
   ]
  },
  {
   "cell_type": "markdown",
   "id": "aa433cd8-98ba-4bc4-8799-c64838edaf91",
   "metadata": {},
   "source": [
    " "
   ]
  },
  {
   "cell_type": "markdown",
   "id": "6584d4f8-832f-4a2b-8053-dd602d46d372",
   "metadata": {},
   "source": [
    "## Super "
   ]
  },
  {
   "cell_type": "markdown",
   "id": "cd01ff5a-1d15-476d-be16-1691d6a8764c",
   "metadata": {},
   "source": [
    "class ParentName: \n",
    "\n",
    "    def __init__(self, age, gender):\n",
    "        self.name = 'Я ИМЯ ИЗ РОДИТЕЛЯ'\n",
    "        self.age = age\n",
    "        self.gender = gender\n",
    "        self.head = True\n",
    "\n",
    "    def another_method(self):\n",
    "        print('PRINT')\n",
    "\n",
    "\n",
    "class ChildClass(ParentName):\n",
    "\n",
    "    def __init__(self, name, age, gender): \n",
    "        \n",
    "        super().__init__(age, gender)\n",
    "        self.name = 'Я ИМЯ ИЗ РЕБЕНКА'\n",
    "\n",
    "\n",
    "    def another_method(self):\n",
    "        pass\n",
    "\n",
    "\n",
    "child = ChildClass(name='Вася', age=33, gender='M') # new init \n",
    "child.name"
   ]
  },
  {
   "cell_type": "markdown",
   "id": "33a8edf3-daf6-4470-8b62-4b4a10f9b95c",
   "metadata": {},
   "source": [
    " "
   ]
  },
  {
   "cell_type": "markdown",
   "id": "dd4118c2-31e4-45d9-8d21-efaede084071",
   "metadata": {},
   "source": [
    "## inplace операции "
   ]
  },
  {
   "cell_type": "raw",
   "id": "7be67c24-d454-40cb-95d0-dff1e383d2f2",
   "metadata": {},
   "source": [
    "inplace (на месте)\n",
    "НЕ inplace (на месте)"
   ]
  },
  {
   "cell_type": "markdown",
   "id": "6163097a-3eba-4ae9-ae70-2792d524ffd0",
   "metadata": {},
   "source": [
    "  "
   ]
  },
  {
   "cell_type": "code",
   "execution_count": 54,
   "id": "e3151e74-e327-4979-8658-7ba5125c9f7c",
   "metadata": {},
   "outputs": [
    {
     "name": "stdout",
     "output_type": "stream",
     "text": [
      "None\n"
     ]
    }
   ],
   "source": [
    "lst = [1, 2, 3, 1, 2, 3, 4, 5, 9, 1, 2]\n",
    "\n",
    "lst = lst.sort() # на месте \n",
    "\n",
    "print(lst)"
   ]
  },
  {
   "cell_type": "code",
   "execution_count": 55,
   "id": "5adfc110-ba0f-406f-b899-f21ca6fa7f69",
   "metadata": {},
   "outputs": [
    {
     "name": "stdout",
     "output_type": "stream",
     "text": [
      "4419450816\n",
      "4419450816\n",
      "4422331328\n"
     ]
    }
   ],
   "source": [
    "lst = [1, 2, 3, 1, 2, 3, 4, 5, 9, 1, 2]\n",
    "print(id(lst))\n",
    "\n",
    "lst1 = sorted(lst) # НЕ на месте \n",
    "\n",
    "print(id(lst))\n",
    "print(id(lst1))"
   ]
  },
  {
   "cell_type": "code",
   "execution_count": 56,
   "id": "f8d7c33c-a955-4670-b9b6-8dcf5d7e081e",
   "metadata": {},
   "outputs": [
    {
     "name": "stdout",
     "output_type": "stream",
     "text": [
      "None\n"
     ]
    }
   ],
   "source": [
    "lst = [1, 2, 3, 1, 2, 3, 4, 5, 9, 1, 2]\n",
    "\n",
    "lst = lst.append(10_000) # на месте\n",
    "\n",
    "print(lst)"
   ]
  },
  {
   "cell_type": "code",
   "execution_count": 57,
   "id": "4ac10899-b381-4a00-9af7-31120b5bd604",
   "metadata": {},
   "outputs": [
    {
     "name": "stdout",
     "output_type": "stream",
     "text": [
      "[1, 2, 3, 1, 2, 3, 4, 5, 9, 1, 2, 10000]\n"
     ]
    }
   ],
   "source": [
    "lst = [1, 2, 3, 1, 2, 3, 4, 5, 9, 1, 2]\n",
    "\n",
    "lst.append(10_000) # на месте\n",
    "\n",
    "print(lst)"
   ]
  },
  {
   "cell_type": "markdown",
   "id": "f86b924a-978e-45cf-b8f7-baf9087a6586",
   "metadata": {},
   "source": [
    " "
   ]
  },
  {
   "cell_type": "markdown",
   "id": "9bf2d4a8-b9a7-4280-ae16-c782675933d8",
   "metadata": {},
   "source": [
    "## Замыкание "
   ]
  },
  {
   "cell_type": "code",
   "execution_count": 51,
   "id": "10b47960-f8d4-44e2-aeb4-6934d8d61fd2",
   "metadata": {},
   "outputs": [
    {
     "name": "stdout",
     "output_type": "stream",
     "text": [
      "500\n",
      "500\n"
     ]
    }
   ],
   "source": [
    "def make_multiplier(factor): # фабрика функций\n",
    "    \n",
    "    def multiplier(x):\n",
    "        return x * factor \n",
    "    return multiplier\n",
    "\n",
    "# Создание двух разных функций умножения\n",
    "times2 = make_multiplier(2)\n",
    "times3 = make_multiplier(3)\n",
    "\n",
    "print(times2(5))  \n",
    "print(times3(5))  "
   ]
  },
  {
   "cell_type": "markdown",
   "id": "b6d7bf47-26d1-43ab-a7c5-980eb38c4323",
   "metadata": {},
   "source": [
    " "
   ]
  }
 ],
 "metadata": {
  "kernelspec": {
   "display_name": "Python 3 (ipykernel)",
   "language": "python",
   "name": "python3"
  },
  "language_info": {
   "codemirror_mode": {
    "name": "ipython",
    "version": 3
   },
   "file_extension": ".py",
   "mimetype": "text/x-python",
   "name": "python",
   "nbconvert_exporter": "python",
   "pygments_lexer": "ipython3",
   "version": "3.11.8"
  }
 },
 "nbformat": 4,
 "nbformat_minor": 5
}
