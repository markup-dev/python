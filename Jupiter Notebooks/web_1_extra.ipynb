{
 "cells": [
  {
   "cell_type": "markdown",
   "id": "939d4c3b-ec8e-46ac-a56c-05ddbf86652c",
   "metadata": {},
   "source": [
    "# Дополнительный вебинар "
   ]
  },
  {
   "cell_type": "markdown",
   "id": "69bb8e09-3333-499c-b35a-4af9f04156e4",
   "metadata": {},
   "source": [
    "    Какие типы данный есть в питоне? "
   ]
  },
  {
   "cell_type": "code",
   "execution_count": 8,
   "id": "1e3b2a2b-f9e6-4bff-8a78-af1660b08547",
   "metadata": {},
   "outputs": [
    {
     "data": {
      "text/plain": [
       "(str, int, int, float, bool, bool)"
      ]
     },
     "execution_count": 8,
     "metadata": {},
     "output_type": "execute_result"
    }
   ],
   "source": [
    "type('string'), type(3), type(-3), type(3.0), type(True), type(False)"
   ]
  },
  {
   "cell_type": "markdown",
   "id": "cc7a47ca-4ef0-40fe-ae62-d9c950bf1737",
   "metadata": {},
   "source": [
    "    Какие типы данный есть в питоне? "
   ]
  },
  {
   "cell_type": "code",
   "execution_count": 9,
   "id": "400d1abe-00bb-42b4-9c4c-f72ab59f06b8",
   "metadata": {},
   "outputs": [
    {
     "data": {
      "text/plain": [
       "(list, tuple, set, dict)"
      ]
     },
     "execution_count": 9,
     "metadata": {},
     "output_type": "execute_result"
    }
   ],
   "source": [
    "type([1, 2, 3]), type((1, 2, 3)), type({1, 2, 3}), type({'key': 'value'})"
   ]
  },
  {
   "cell_type": "code",
   "execution_count": 13,
   "id": "949eb46a-4c0b-44a4-a20d-05cab22b1d2f",
   "metadata": {},
   "outputs": [
    {
     "name": "stdout",
     "output_type": "stream",
     "text": [
      "<class 'set'>\n",
      "[1, 2, 3]\n",
      "(1, 2, 3)\n",
      "{1, 2, 3}\n"
     ]
    }
   ],
   "source": [
    "my_set = {1, 2, 3}\n",
    "print(type(my_set))\n",
    "print(list({1, 2, 3}))\n",
    "print(tuple(my_set))\n",
    "print(set(my_set))"
   ]
  },
  {
   "cell_type": "code",
   "execution_count": 14,
   "id": "8cfe3f65-4303-4827-b2ba-2a9d2bf665e1",
   "metadata": {},
   "outputs": [
    {
     "name": "stdout",
     "output_type": "stream",
     "text": [
      "<class 'list'>\n",
      "[1, 2, 3]\n",
      "(1, 2, 3)\n",
      "{1, 2, 3}\n"
     ]
    }
   ],
   "source": [
    "my_list = [1, 2, 3]\n",
    "print(type(my_list))\n",
    "print(list(my_list))\n",
    "print(tuple(my_list))\n",
    "print(set(my_list))"
   ]
  },
  {
   "cell_type": "code",
   "execution_count": 15,
   "id": "6970a6f1-787c-43f7-9029-cc8523d50a95",
   "metadata": {},
   "outputs": [
    {
     "name": "stdout",
     "output_type": "stream",
     "text": [
      "<class 'tuple'>\n",
      "[1, 2, 3]\n",
      "(1, 2, 3)\n",
      "{1, 2, 3}\n"
     ]
    }
   ],
   "source": [
    "my_tuple = (1, 2, 3)\n",
    "print(type(my_tuple))\n",
    "print(list(my_tuple))\n",
    "print(tuple(my_tuple))\n",
    "print(set(my_tuple))"
   ]
  },
  {
   "cell_type": "markdown",
   "id": "9593539b-9923-4c37-a030-a976319675d1",
   "metadata": {},
   "source": [
    "    Индексация строк "
   ]
  },
  {
   "cell_type": "code",
   "execution_count": 16,
   "id": "97456555-0344-4098-875b-a548506c97b9",
   "metadata": {},
   "outputs": [],
   "source": [
    "string = \"Мы идем гулять в парк с Сашей\""
   ]
  },
  {
   "cell_type": "code",
   "execution_count": 18,
   "id": "193ebeb8-a5ec-4db4-9a39-ba5a1040a69a",
   "metadata": {},
   "outputs": [
    {
     "data": {
      "text/plain": [
       "29"
      ]
     },
     "execution_count": 18,
     "metadata": {},
     "output_type": "execute_result"
    }
   ],
   "source": [
    "len(\"Мы идем гулять в парк с Сашей\")"
   ]
  },
  {
   "cell_type": "code",
   "execution_count": 22,
   "id": "5427df1e-74cd-4dc4-a3a0-1a260d034b2e",
   "metadata": {},
   "outputs": [
    {
     "name": "stdout",
     "output_type": "stream",
     "text": [
      "Мы идем гулять в парк с Сашей\n"
     ]
    }
   ],
   "source": [
    "print(string[::]) # start:end:step"
   ]
  },
  {
   "cell_type": "code",
   "execution_count": 27,
   "id": "f0b2fe6c-8a9e-4fea-9568-432a22cbc318",
   "metadata": {},
   "outputs": [
    {
     "name": "stdout",
     "output_type": "stream",
     "text": [
      "йешаС с крап в ьтялуг меди ыМ\n"
     ]
    }
   ],
   "source": [
    "print(string[::-1]) # start:end:step"
   ]
  },
  {
   "cell_type": "code",
   "execution_count": null,
   "id": "8cbdf11a-82d0-4600-9398-90b36a33dacd",
   "metadata": {},
   "outputs": [],
   "source": [
    "print(string[::-1]) \n",
    "#  вторая половина в прямом но границв не вкл степ 2 "
   ]
  },
  {
   "cell_type": "code",
   "execution_count": 38,
   "id": "755f8bcc-9ca3-42f2-b7a0-8344c2b210da",
   "metadata": {},
   "outputs": [
    {
     "name": "stdout",
     "output_type": "stream",
     "text": [
      "18\n",
      "автумиМ\n",
      "р  ае  ае\n",
      "автумиМр  ае  ае\n"
     ]
    }
   ],
   "source": [
    "# половин строки в обр порядке со степом 3\n",
    "string = \"Мы идем гулять в парк с Сашей и Машей\"\n",
    "\n",
    "x = int(len(string) / 2)\n",
    "print(x)\n",
    "\n",
    "print(string[x::-3]) \n",
    "#  вторая половина в прямом но граница не вкл степ 2 \n",
    "print(string[x+1:-1:2])\n",
    "print(string[x::-3] + string[x+1:-1:2])"
   ]
  },
  {
   "cell_type": "code",
   "execution_count": 31,
   "id": "b2b6b79f-4d3b-47b0-9367-3360d635a872",
   "metadata": {},
   "outputs": [
    {
     "data": {
      "text/plain": [
       "19"
      ]
     },
     "execution_count": 31,
     "metadata": {},
     "output_type": "execute_result"
    }
   ],
   "source": [
    "round(18.51)"
   ]
  },
  {
   "cell_type": "code",
   "execution_count": 32,
   "id": "3ea10675-e293-4848-801e-1ac1b9b4df1a",
   "metadata": {},
   "outputs": [
    {
     "data": {
      "text/plain": [
       "18"
      ]
     },
     "execution_count": 32,
     "metadata": {},
     "output_type": "execute_result"
    }
   ],
   "source": [
    "int(18.91)"
   ]
  },
  {
   "cell_type": "code",
   "execution_count": 40,
   "id": "de9d1888-5d00-4304-a0c6-f99bd2b6d1e5",
   "metadata": {},
   "outputs": [
    {
     "name": "stdout",
     "output_type": "stream",
     "text": [
      "1\n"
     ]
    }
   ],
   "source": [
    "x = 1 \n",
    "x = x + 1 \n",
    "x -= 1 # сокращение \n",
    "print(x)"
   ]
  },
  {
   "cell_type": "markdown",
   "id": "55aa3de3-d95c-4f09-a6ab-990ce01dc77a",
   "metadata": {},
   "source": [
    "    Методы строк "
   ]
  },
  {
   "cell_type": "code",
   "execution_count": 44,
   "id": "66515382-b007-4bae-9bd0-32c44e4d85df",
   "metadata": {},
   "outputs": [
    {
     "name": "stdout",
     "output_type": "stream",
     "text": [
      "МЫ ИДЕМ ГУЛЯТЬ В ПАРК С САШЕЙ И МАШЕЙ\n",
      "мы идем гулять в парк с сашей и машей\n",
      "***** идем гулять в парк с Сашей и Машей\n"
     ]
    }
   ],
   "source": [
    "string = \"Мы идем гулять в парк с Сашей и Машей\"\n",
    "\n",
    "print(string.upper())\n",
    "print(string.lower())\n",
    "print(string.replace('Мы', '*****'))"
   ]
  },
  {
   "cell_type": "markdown",
   "id": "c4feb906-2c92-4712-aa97-aa55cd49fc35",
   "metadata": {},
   "source": [
    "    Списки "
   ]
  },
  {
   "cell_type": "code",
   "execution_count": 53,
   "id": "9c94e7fe-1b83-4efa-8b22-b173d5b09a46",
   "metadata": {},
   "outputs": [],
   "source": [
    "lst_1 = [1, 3.7, True, 'string', [1, 2, 'str1111']]\n",
    "lst_2 = lst_1[-1]"
   ]
  },
  {
   "cell_type": "code",
   "execution_count": 54,
   "id": "c4568baa-8e0b-4ef1-a59e-1f44c6e858d0",
   "metadata": {},
   "outputs": [
    {
     "name": "stdout",
     "output_type": "stream",
     "text": [
      "str1111\n"
     ]
    }
   ],
   "source": [
    "print(lst_2[-1])"
   ]
  },
  {
   "cell_type": "code",
   "execution_count": 58,
   "id": "d6063183-dea3-4f84-b808-3d62688b8d72",
   "metadata": {},
   "outputs": [],
   "source": [
    "lst_1.append(2)"
   ]
  },
  {
   "cell_type": "code",
   "execution_count": 57,
   "id": "c10e7d3c-08ca-408b-a4a5-93823d0b79da",
   "metadata": {},
   "outputs": [
    {
     "name": "stdout",
     "output_type": "stream",
     "text": [
      "None\n"
     ]
    }
   ],
   "source": [
    "x = lst_1.append(2)\n",
    "print(x)"
   ]
  },
  {
   "cell_type": "code",
   "execution_count": 59,
   "id": "09a0831f-1fc7-4fad-9499-0e712774176f",
   "metadata": {},
   "outputs": [
    {
     "name": "stdout",
     "output_type": "stream",
     "text": [
      "None\n"
     ]
    }
   ],
   "source": [
    "lst_1 = lst_1.append(2)\n",
    "print(lst_1)"
   ]
  },
  {
   "cell_type": "code",
   "execution_count": 56,
   "id": "34073d13-9415-43d2-ba0b-e19a41daf44e",
   "metadata": {},
   "outputs": [
    {
     "name": "stdout",
     "output_type": "stream",
     "text": [
      "[1, 3.7, True, 'string', [1, 2, 'str1111'], 2]\n"
     ]
    }
   ],
   "source": [
    "print(lst_1)"
   ]
  },
  {
   "cell_type": "code",
   "execution_count": null,
   "id": "b9d22ce6-b032-4ec5-b38a-21f0080fc166",
   "metadata": {},
   "outputs": [],
   "source": [
    "inplace / не inplace "
   ]
  },
  {
   "cell_type": "code",
   "execution_count": 60,
   "id": "a96b514e-a97f-4999-be2d-67f83cb0da6a",
   "metadata": {},
   "outputs": [],
   "source": [
    "lst_1"
   ]
  },
  {
   "cell_type": "code",
   "execution_count": 63,
   "id": "5d8ef8b3-b758-4ac0-b9f5-9f38b7f5ff47",
   "metadata": {},
   "outputs": [],
   "source": [
    "lst_1 = [1, 3.7, 3, 1, 2, 5]"
   ]
  },
  {
   "cell_type": "code",
   "execution_count": 64,
   "id": "a2ebbad7-f342-44b0-8564-06703c004a32",
   "metadata": {},
   "outputs": [],
   "source": [
    "lst_1.sort()"
   ]
  },
  {
   "cell_type": "code",
   "execution_count": 65,
   "id": "548914d2-1ae9-4f36-a45d-f37d2d779ee0",
   "metadata": {},
   "outputs": [
    {
     "data": {
      "text/plain": [
       "[1, 1, 2, 3, 3.7, 5]"
      ]
     },
     "execution_count": 65,
     "metadata": {},
     "output_type": "execute_result"
    }
   ],
   "source": [
    "lst_1"
   ]
  },
  {
   "cell_type": "code",
   "execution_count": 67,
   "id": "35b15ffb-c8d0-4e79-8c0e-a0b0e287d3f4",
   "metadata": {},
   "outputs": [
    {
     "name": "stdout",
     "output_type": "stream",
     "text": [
      "[1, 1, 2, 3, 3.7, 5]\n",
      "[1, 3.7, 3, 1, 2, 5]\n"
     ]
    }
   ],
   "source": [
    "lst_1 = [1, 3.7, 3, 1, 2, 5]\n",
    "print(sorted(lst_1))\n",
    "print(lst_1)"
   ]
  },
  {
   "cell_type": "code",
   "execution_count": 68,
   "id": "3716f741-9ace-4431-827e-61f8c8470f51",
   "metadata": {},
   "outputs": [
    {
     "name": "stdout",
     "output_type": "stream",
     "text": [
      "None\n"
     ]
    }
   ],
   "source": [
    "x = lst_1.sort()\n",
    "print(x)"
   ]
  },
  {
   "cell_type": "code",
   "execution_count": 70,
   "id": "5534a9cb-85f3-4c05-9985-3439d28f8635",
   "metadata": {},
   "outputs": [
    {
     "name": "stdout",
     "output_type": "stream",
     "text": [
      "[1, 1, 2, 3, 3.7, 5]\n"
     ]
    }
   ],
   "source": [
    "lst_1 = [1, 3.7, 3, 1, 2, 5]\n",
    "lst_1.sort()\n",
    "print(lst_1)"
   ]
  },
  {
   "cell_type": "code",
   "execution_count": 69,
   "id": "60cb64ff-7191-4946-ace6-c72e7dd3152f",
   "metadata": {},
   "outputs": [
    {
     "name": "stdout",
     "output_type": "stream",
     "text": [
      "[1, 1, 2, 3, 3.7, 5]\n"
     ]
    }
   ],
   "source": [
    "x = sorted(lst_1)\n",
    "print(x)"
   ]
  },
  {
   "cell_type": "markdown",
   "id": "78e4f8fd-6ef3-4d7a-af17-c416c7f66249",
   "metadata": {},
   "source": [
    "    Логические выражения "
   ]
  },
  {
   "cell_type": "markdown",
   "id": "85c36535-2284-4f63-b514-8c688ae60fc5",
   "metadata": {},
   "source": [
    "    == и !=      > и <      >= и =<     in и not in "
   ]
  },
  {
   "cell_type": "code",
   "execution_count": 72,
   "id": "c1046c03-6aef-42e0-a6bf-dc607ac4370e",
   "metadata": {},
   "outputs": [
    {
     "name": "stdout",
     "output_type": "stream",
     "text": [
      "True\n",
      "False\n"
     ]
    }
   ],
   "source": [
    "print(6 == 6)\n",
    "print(6 != 6)"
   ]
  },
  {
   "cell_type": "code",
   "execution_count": 76,
   "id": "cb7d8179-cf96-4282-b3e2-e5bdd74ac5ca",
   "metadata": {},
   "outputs": [
    {
     "name": "stdout",
     "output_type": "stream",
     "text": [
      "True\n"
     ]
    }
   ],
   "source": [
    "print(6 not in [7])"
   ]
  },
  {
   "cell_type": "code",
   "execution_count": null,
   "id": "33c4925e-e8bd-4df9-abac-9273a290b1d2",
   "metadata": {},
   "outputs": [],
   "source": [
    "print(6 == 6)"
   ]
  },
  {
   "cell_type": "code",
   "execution_count": 93,
   "id": "3e4efede-7b55-4c8b-9314-42cd2e7d7b90",
   "metadata": {},
   "outputs": [
    {
     "name": "stdout",
     "output_type": "stream",
     "text": [
      "ABC\n"
     ]
    }
   ],
   "source": [
    "x = 6 \n",
    "y = 10 \n",
    "\n",
    "if False:\n",
    "    print('345678')\n",
    "elif False:\n",
    "    print('SDFGHJK')\n",
    "elif False:\n",
    "    print('34')\n",
    "else: \n",
    "    print('ABC')\n",
    "\n",
    "\n"
   ]
  },
  {
   "cell_type": "markdown",
   "id": "89afd9c8-b4d2-49ca-8a09-2776bc085d07",
   "metadata": {},
   "source": [
    "    and or not "
   ]
  },
  {
   "cell_type": "raw",
   "id": "137e044a-133b-482b-a145-f4e7c602742f",
   "metadata": {},
   "source": [
    "True and True ----> True\n",
    "True and False ----> False\n",
    "False and True ----> False\n",
    "False and False ----> False\n",
    "\n",
    "True or True ----> True\n",
    "True or False ----> True\n",
    "False or True ----> True\n",
    "False or False ----> False\n",
    "\n",
    "not False ----> True\n",
    "not True ----> False"
   ]
  },
  {
   "cell_type": "raw",
   "id": "3e5533f5-1020-4374-b503-6d8a79fbb37a",
   "metadata": {},
   "source": [
    "0) СКОБКИ\n",
    "1) not\n",
    "2) and\n",
    "3) or"
   ]
  },
  {
   "cell_type": "code",
   "execution_count": 94,
   "id": "e990ae13-e788-4b6f-933b-a44e502ceca6",
   "metadata": {},
   "outputs": [
    {
     "name": "stdout",
     "output_type": "stream",
     "text": [
      "345678\n"
     ]
    }
   ],
   "source": [
    "if True: # True and False or not False: \n",
    "    print('345678')\n",
    "else: \n",
    "    print('ABC')"
   ]
  },
  {
   "cell_type": "code",
   "execution_count": 95,
   "id": "a4b428ff-da93-4ec5-8600-dd6de12b12c9",
   "metadata": {},
   "outputs": [
    {
     "name": "stdout",
     "output_type": "stream",
     "text": [
      "345678\n"
     ]
    }
   ],
   "source": [
    "# True or True and not True (False and not True or True or False) and True:\n",
    "if True:\n",
    "    print('345678')\n",
    "else: \n",
    "    print('ABC')"
   ]
  },
  {
   "cell_type": "markdown",
   "id": "2a1e97b6-642d-42a6-869b-ba392a2e2524",
   "metadata": {},
   "source": [
    "    Цикл while for "
   ]
  },
  {
   "cell_type": "code",
   "execution_count": null,
   "id": "629c144b-b5e0-43d3-b3f1-86ddafe22655",
   "metadata": {},
   "outputs": [],
   "source": [
    "lst = [1, 4, 9, 12, 34]"
   ]
  },
  {
   "cell_type": "code",
   "execution_count": null,
   "id": "15229897-4d27-46bc-a128-90893f2e889c",
   "metadata": {},
   "outputs": [],
   "source": [
    "# while True:\n",
    "#     print(1)"
   ]
  },
  {
   "cell_type": "code",
   "execution_count": 97,
   "id": "8cbb8a15-4eeb-402f-b386-03ab792ff6c1",
   "metadata": {},
   "outputs": [],
   "source": [
    "while False:\n",
    "    print(1)"
   ]
  },
  {
   "cell_type": "code",
   "execution_count": 99,
   "id": "a0ba6721-a668-45a7-8cf3-2e4a7feba931",
   "metadata": {},
   "outputs": [
    {
     "name": "stdout",
     "output_type": "stream",
     "text": [
      "0\n",
      "1\n",
      "2\n",
      "3\n",
      "4\n",
      "5\n",
      "6\n",
      "7\n",
      "8\n",
      "9\n"
     ]
    }
   ],
   "source": [
    "i = 0 # счетчик \n",
    "\n",
    "while i < 10:\n",
    "    print(i)\n",
    "    i += 1"
   ]
  },
  {
   "cell_type": "code",
   "execution_count": 101,
   "id": "6529b746-5527-4d98-b5c5-7f2d07284cf5",
   "metadata": {},
   "outputs": [
    {
     "name": "stdout",
     "output_type": "stream",
     "text": [
      "1\n",
      "4\n",
      "9\n",
      "12\n",
      "34\n"
     ]
    }
   ],
   "source": [
    "lst = [1, 4, 9, 12, 34]\n",
    "\n",
    "i = 0 # счетчик \n",
    "\n",
    "while i < len(lst):\n",
    "    print(lst[i])\n",
    "    i += 1"
   ]
  },
  {
   "cell_type": "code",
   "execution_count": null,
   "id": "9a78aa42-4911-4e34-baf8-6de82ebbc5a2",
   "metadata": {},
   "outputs": [],
   "source": [
    "while : \n",
    "    print(100)"
   ]
  },
  {
   "cell_type": "code",
   "execution_count": 102,
   "id": "4534965e-0f97-4f5e-a597-d7b2bc895e02",
   "metadata": {},
   "outputs": [
    {
     "name": "stdout",
     "output_type": "stream",
     "text": [
      "1\n",
      "4\n",
      "9\n",
      "12\n",
      "34\n"
     ]
    }
   ],
   "source": [
    "lst = [1, 4, 9, 12, 34]\n",
    "\n",
    "for i in lst:\n",
    "    print(i)"
   ]
  },
  {
   "cell_type": "code",
   "execution_count": 115,
   "id": "90948dfc-cbe0-4801-81cf-d8718b931ea4",
   "metadata": {},
   "outputs": [
    {
     "name": "stdout",
     "output_type": "stream",
     "text": [
      "0\n",
      "1\n",
      "2\n",
      "3\n",
      "4\n"
     ]
    }
   ],
   "source": [
    "lst = [1, 4, 9, 12, 34]\n",
    "\n",
    "for i in range(len(lst)):\n",
    "    print(i)"
   ]
  },
  {
   "cell_type": "code",
   "execution_count": 132,
   "id": "375ac025-825f-415d-8b6b-2aff3a522caa",
   "metadata": {},
   "outputs": [
    {
     "name": "stdout",
     "output_type": "stream",
     "text": [
      "1<<<<<<<<<<<<<100>>>>>>>>>>>>>4<<<<<<<<<<<<<400>>>>>>>>>>>>>"
     ]
    }
   ],
   "source": [
    "lst = [1, 4]\n",
    "lst2 = [100, 400, 900, 1200]\n",
    "\n",
    "for i in range(len(lst)):\n",
    "    print(lst[i], end='<<<<<<<<<<<<<')\n",
    "    print(lst2[i], end='>>>>>>>>>>>>>')\n",
    "\n",
    "# for i in lst:\n",
    "#     print(i)"
   ]
  },
  {
   "cell_type": "code",
   "execution_count": null,
   "id": "e278ec7d-2dab-4d81-b028-eeef5f4e4471",
   "metadata": {},
   "outputs": [],
   "source": [
    "# True and (not False or False and True) or not True \n",
    "\n",
    "while True:\n",
    "    print(10)"
   ]
  },
  {
   "cell_type": "markdown",
   "id": "00a443cf-2ca7-4838-9515-7a0c4233f0ad",
   "metadata": {},
   "source": [
    "    Функции"
   ]
  },
  {
   "cell_type": "code",
   "execution_count": 135,
   "id": "50c66f3a-66f0-4871-ac0b-b4193a49f37d",
   "metadata": {},
   "outputs": [],
   "source": [
    "def sum_help():\n",
    "    print(1)"
   ]
  },
  {
   "cell_type": "code",
   "execution_count": 137,
   "id": "ae542da0-8abc-46be-9177-1f626f4e8693",
   "metadata": {},
   "outputs": [
    {
     "data": {
      "text/plain": [
       "function"
      ]
     },
     "execution_count": 137,
     "metadata": {},
     "output_type": "execute_result"
    }
   ],
   "source": [
    "type(sum_help)"
   ]
  },
  {
   "cell_type": "code",
   "execution_count": 138,
   "id": "ceb93e35-6328-4b23-b2d9-527f5efd25aa",
   "metadata": {},
   "outputs": [
    {
     "name": "stdout",
     "output_type": "stream",
     "text": [
      "1\n"
     ]
    }
   ],
   "source": [
    "sum_help()"
   ]
  },
  {
   "cell_type": "code",
   "execution_count": 139,
   "id": "f7dd2cc9-a264-46dc-8c47-b7ca4845c3e5",
   "metadata": {},
   "outputs": [],
   "source": [
    "def sum_help(a):\n",
    "    print(1)"
   ]
  },
  {
   "cell_type": "code",
   "execution_count": 142,
   "id": "91d8b3f9-6917-4d83-aa02-e418f017a0fb",
   "metadata": {},
   "outputs": [
    {
     "name": "stdout",
     "output_type": "stream",
     "text": [
      "1\n"
     ]
    }
   ],
   "source": [
    "sum_help(5)"
   ]
  },
  {
   "cell_type": "code",
   "execution_count": 152,
   "id": "67c2bdd0-af2f-4d01-bbeb-fe667741aeb3",
   "metadata": {},
   "outputs": [],
   "source": [
    "def sum_help():\n",
    "    print(10000)\n",
    "    return 1 "
   ]
  },
  {
   "cell_type": "code",
   "execution_count": 155,
   "id": "5f499bb3-d1ad-4b7e-8e16-4f43fcabb286",
   "metadata": {},
   "outputs": [],
   "source": [
    "def sum_help() -> None:\n",
    "    return print(10000) # -> return None"
   ]
  },
  {
   "cell_type": "code",
   "execution_count": 156,
   "id": "52d9f5ce-6fa9-47d6-823c-ac76dadf7e04",
   "metadata": {},
   "outputs": [
    {
     "name": "stdout",
     "output_type": "stream",
     "text": [
      "10000\n",
      "None\n",
      "None\n",
      "None\n"
     ]
    }
   ],
   "source": [
    "x = sum_help()\n",
    "print(x)\n",
    "print(x)\n",
    "print(x)"
   ]
  },
  {
   "cell_type": "code",
   "execution_count": 159,
   "id": "06eb14d3-7d06-4e51-b04c-97ca14a198dc",
   "metadata": {},
   "outputs": [
    {
     "name": "stdout",
     "output_type": "stream",
     "text": [
      "333\n",
      "10000\n",
      "1\n",
      "1\n",
      "1\n"
     ]
    }
   ],
   "source": [
    "def sum_help():\n",
    "    print(10000)\n",
    "    return 1 \n",
    "    print(222)\n",
    "    \n",
    "print(333)\n",
    "\n",
    "x = sum_help()\n",
    "print(x)\n",
    "print(x)\n",
    "print(x)"
   ]
  },
  {
   "cell_type": "code",
   "execution_count": 165,
   "id": "5baf28c3-60ea-4a2b-9f52-73d7e08220e0",
   "metadata": {},
   "outputs": [
    {
     "name": "stdout",
     "output_type": "stream",
     "text": [
      "ОЧЕНЬ ВАЖНЫЙ КУСОК КОДА\n",
      "9\n"
     ]
    }
   ],
   "source": [
    "def sum_help(a, b, c): # вредная !!!\n",
    "    print('ОЧЕНЬ ВАЖНЫЙ КУСОК КОДА')\n",
    "    return a + b\n",
    "\n",
    "x = sum_help(4, 5, 6)\n",
    "print(x) "
   ]
  },
  {
   "cell_type": "code",
   "execution_count": 169,
   "id": "ff1ce3d9-2b19-4538-ab9b-b6ef6cb3fabd",
   "metadata": {},
   "outputs": [
    {
     "name": "stdout",
     "output_type": "stream",
     "text": [
      "ОЧЕНЬ ВАЖНЫЙ КУСОК КОДА\n"
     ]
    },
    {
     "data": {
      "text/plain": [
       "15"
      ]
     },
     "execution_count": 169,
     "metadata": {},
     "output_type": "execute_result"
    }
   ],
   "source": [
    "def sum_help(a, b, c=100000): # параметры\n",
    "    print('ОЧЕНЬ ВАЖНЫЙ КУСОК КОДА')\n",
    "    return a + b + c\n",
    "\n",
    "sum_help(4, 5, 6) # аргументы "
   ]
  },
  {
   "cell_type": "code",
   "execution_count": 172,
   "id": "72bc6ffd-a14f-4860-953f-ce8fef4c9b4d",
   "metadata": {},
   "outputs": [
    {
     "name": "stdout",
     "output_type": "stream",
     "text": [
      "15\n",
      "100009\n",
      "15\n"
     ]
    }
   ],
   "source": [
    "def sum_help(a, b, c=100_000): # параметры\n",
    "    return a + b + c\n",
    "    \n",
    "print(sum_help(4, 5, 6)) # позиционные аргументы\n",
    "print(sum_help(4, 5)) # позиционные аргументы\n",
    "\n",
    "print(sum_help(b=4, a=5, c=6)) # именованные аргументы\n",
    "print(sum_help(a=5, b=4, c=6)) # именованные аргументы"
   ]
  },
  {
   "cell_type": "code",
   "execution_count": 173,
   "id": "5fb850e3-37ac-4c8b-a667-8ae233d2f9e1",
   "metadata": {},
   "outputs": [
    {
     "name": "stdout",
     "output_type": "stream",
     "text": [
      "Имя Саша\n"
     ]
    }
   ],
   "source": [
    "name = 'Саша'\n",
    "print(f'Имя {name}')"
   ]
  },
  {
   "cell_type": "code",
   "execution_count": 176,
   "id": "d79563fc-bbae-4281-827f-df8a3188000e",
   "metadata": {},
   "outputs": [
    {
     "name": "stdout",
     "output_type": "stream",
     "text": [
      "Имя Саша\n",
      "Возраст 26\n",
      "Город msk\n"
     ]
    }
   ],
   "source": [
    "def get_info(name, age, city='msk'): # параметры\n",
    "    print(f'Имя {name}')\n",
    "    print(f'Возраст {age}')\n",
    "    print(f'Город {city}')\n",
    "\n",
    "get_info(age=26, name='Саша') # именованные аргументы"
   ]
  },
  {
   "cell_type": "code",
   "execution_count": 177,
   "id": "12ccbc3d-b3f2-48ca-ab09-dbdae3792d7b",
   "metadata": {},
   "outputs": [
    {
     "ename": "SyntaxError",
     "evalue": "positional argument follows keyword argument (2845747345.py, line 1)",
     "output_type": "error",
     "traceback": [
      "\u001b[0;36m  Cell \u001b[0;32mIn[177], line 1\u001b[0;36m\u001b[0m\n\u001b[0;31m    get_info(age=26, 'Саша')\u001b[0m\n\u001b[0m                           ^\u001b[0m\n\u001b[0;31mSyntaxError\u001b[0m\u001b[0;31m:\u001b[0m positional argument follows keyword argument\n"
     ]
    }
   ],
   "source": [
    "get_info(age=26, 'Саша') "
   ]
  },
  {
   "cell_type": "code",
   "execution_count": 178,
   "id": "30b419ab-865c-4215-81c2-8720929f03d7",
   "metadata": {},
   "outputs": [
    {
     "ename": "TypeError",
     "evalue": "get_info() got multiple values for argument 'name'",
     "output_type": "error",
     "traceback": [
      "\u001b[0;31m---------------------------------------------------------------------------\u001b[0m",
      "\u001b[0;31mTypeError\u001b[0m                                 Traceback (most recent call last)",
      "Cell \u001b[0;32mIn[178], line 1\u001b[0m\n\u001b[0;32m----> 1\u001b[0m get_info(\u001b[38;5;241m26\u001b[39m, name\u001b[38;5;241m=\u001b[39m\u001b[38;5;124m'\u001b[39m\u001b[38;5;124mСаша\u001b[39m\u001b[38;5;124m'\u001b[39m)\n",
      "\u001b[0;31mTypeError\u001b[0m: get_info() got multiple values for argument 'name'"
     ]
    }
   ],
   "source": [
    "get_info(26, name='Саша')"
   ]
  },
  {
   "cell_type": "code",
   "execution_count": 185,
   "id": "a6a837c5-8a0a-4455-b8c7-b5aa3fc6d5b7",
   "metadata": {},
   "outputs": [
    {
     "name": "stdout",
     "output_type": "stream",
     "text": [
      "Имя Саша\n",
      "Возраст 26\n",
      "Город msk\n",
      "7\n"
     ]
    }
   ],
   "source": [
    "def get_info(a, *, name, age, city): # требование, чтобы аргументы были именованные \n",
    "    print(f'Имя {name}')\n",
    "    print(f'Возраст {age}')\n",
    "    print(f'Город {city}')\n",
    "    print(a)\n",
    "\n",
    "get_info(7, name='Саша', age=26, city='msk')"
   ]
  },
  {
   "cell_type": "code",
   "execution_count": 199,
   "id": "e991d281-8438-4393-8062-d989b12cd0df",
   "metadata": {},
   "outputs": [
    {
     "name": "stdout",
     "output_type": "stream",
     "text": [
      "(1, 3, 4, 6, 7)\n",
      "{'a': 5, 'g': 6}\n",
      "<class 'tuple'>\n",
      "<class 'dict'>\n",
      "1\n",
      "3\n",
      "4\n",
      "6\n",
      "7\n",
      "a 5\n",
      "g 6\n"
     ]
    }
   ],
   "source": [
    "def example(*args, **kwargs): # args tuple - \n",
    "    print(args)\n",
    "    print(kwargs)\n",
    "    print(type(args)) \n",
    "    print(type(kwargs))\n",
    "    for i in args:\n",
    "        print(i)\n",
    "    for key, value in kwargs.items():\n",
    "        print(key, value)\n",
    "\n",
    "example(1, 3, 4, 6, 7, a=5, g=6)"
   ]
  },
  {
   "cell_type": "code",
   "execution_count": 198,
   "id": "bd21b934-6bfb-46f3-9c9d-a1d411f1effd",
   "metadata": {},
   "outputs": [
    {
     "name": "stdout",
     "output_type": "stream",
     "text": [
      "a 5\n"
     ]
    }
   ],
   "source": [
    "key, value = ('a', 5)\n",
    "print(key, value)"
   ]
  },
  {
   "cell_type": "code",
   "execution_count": 195,
   "id": "c9e348c3-2015-47c9-8bd5-866d2bfa522f",
   "metadata": {},
   "outputs": [
    {
     "name": "stdout",
     "output_type": "stream",
     "text": [
      "1 3 4 6 7\n",
      "1 3 4 6 7\n"
     ]
    }
   ],
   "source": [
    "my_dict = {'f': 9}\n",
    "lst = [1, 3, 4, 6, 7]\n",
    "print(*lst) # print(1, 3, 4, 6, 7)\n",
    "print(1, 3, 4, 6, 7)"
   ]
  },
  {
   "cell_type": "code",
   "execution_count": 191,
   "id": "84b1c980-23b0-4472-9408-e075732dbe1c",
   "metadata": {},
   "outputs": [
    {
     "name": "stdout",
     "output_type": "stream",
     "text": [
      "0\n",
      "1\n",
      "2\n",
      "3\n",
      "4\n",
      "4\n"
     ]
    }
   ],
   "source": [
    "for i in range(5):\n",
    "    print(i)\n",
    "\n",
    "print(i)"
   ]
  },
  {
   "cell_type": "code",
   "execution_count": null,
   "id": "a28045ff-2fc9-49d6-ab28-5fe073180706",
   "metadata": {},
   "outputs": [],
   "source": []
  },
  {
   "cell_type": "code",
   "execution_count": null,
   "id": "64ac3246-c604-49af-befe-9ed285b7d787",
   "metadata": {},
   "outputs": [],
   "source": []
  },
  {
   "cell_type": "code",
   "execution_count": null,
   "id": "e4dcf986-2987-40f4-85ee-926d37407a0b",
   "metadata": {},
   "outputs": [],
   "source": []
  },
  {
   "cell_type": "code",
   "execution_count": null,
   "id": "5139293b-08c6-4f3a-8b61-8a9551d9d728",
   "metadata": {},
   "outputs": [],
   "source": []
  },
  {
   "cell_type": "code",
   "execution_count": null,
   "id": "78b661f2-a068-4b2c-9a4c-1a2e6b68d925",
   "metadata": {},
   "outputs": [],
   "source": []
  },
  {
   "cell_type": "markdown",
   "id": "564d69e7-40f6-4f40-b0c8-478e4bbe1820",
   "metadata": {},
   "source": [
    "    Функции "
   ]
  },
  {
   "cell_type": "code",
   "execution_count": null,
   "id": "45bd8d61-4216-4a85-b8c2-63bdacea1e35",
   "metadata": {},
   "outputs": [],
   "source": [
    "Локальное пространство имен\n",
    "\n",
    "Глобальное пространство имен\n",
    "\n",
    "Встроенное пространство имен"
   ]
  },
  {
   "cell_type": "code",
   "execution_count": 2,
   "id": "ac5640ad-e5c6-4789-b120-80fedc1ff495",
   "metadata": {},
   "outputs": [
    {
     "data": {
      "text/plain": [
       "True"
      ]
     },
     "execution_count": 2,
     "metadata": {},
     "output_type": "execute_result"
    }
   ],
   "source": [
    "globals() == locals()"
   ]
  },
  {
   "cell_type": "markdown",
   "id": "20cb0acf-268f-41fa-a3b4-d4e487734145",
   "metadata": {},
   "source": [
    "### Пространства имен в Python\n",
    "\n",
    "Пространства имен (namespaces) в Python — это механизм, который обеспечивает изоляцию имен (переменных, функций, классов и т.д.) друг от друга. Это помогает избежать конфликтов имен и обеспечивает организованную структуру кода.\n",
    "\n",
    "#### Основные типы пространств имен\n",
    "\n",
    "1. **Встроенное пространство имен (Built-in Namespace)**:\n",
    "   - Это пространство имен, которое доступно всегда и включает в себя встроенные функции и исключения Python (например, `print()`, `len()`, `Exception`).\n",
    "   - Эти имена определяются при запуске интерпретатора и доступны в любом месте программы.\n",
    "\n",
    "2. **Глобальное пространство имен (Global Namespace)**:\n",
    "   - Пространство имен, которое принадлежит всему модулю. Все переменные, функции и классы, определенные на верхнем уровне модуля, находятся в глобальном пространстве имен.\n",
    "   - Доступ к этим именам можно получить в любом месте модуля.\n",
    "\n",
    "3. **Локальное пространство имен (Local Namespace)**:\n",
    "   - Пространство имен, созданное при вызове функции. Все переменные, определенные внутри функции, принадлежат локальному пространству имен.\n",
    "   - Доступ к этим именам ограничен только областью действия функции.\n",
    "\n",
    "4. **Пространство имен класса (Class Namespace)**:\n",
    "   - Пространство имен, создаваемое при определении класса. Включает в себя все атрибуты и методы класса.\n",
    "   - Доступ к этим именам можно получить через экземпляр класса или сам класс.\n",
    "\n",
    "#### Жизненный цикл пространств имен\n",
    "\n",
    "- Встроенное пространство имен создается при запуске интерпретатора и существует до завершения программы.\n",
    "- Глобальное пространство имен создается при импорте модуля и также существует до завершения программы.\n",
    "- Локальное пространство имен создается при каждом вызове функции и уничтожается после завершения функции.\n",
    "\n",
    "#### Область видимости (Scope)\n",
    "\n",
    "Область видимости определяет контекст, в котором имя переменной или функции может быть использовано. В Python существует четыре уровня области видимости, обозначаемых аббревиатурой LEGB:\n",
    "\n",
    "1. **Local** — Локальная область видимости. Переменные, определенные внутри текущей функции.\n",
    "2. **Enclosing** — Закрывающая область видимости. Переменные из внешних функций в случае вложенных функций.\n",
    "3. **Global** — Глобальная область видимости. Переменные, определенные на уровне модуля.\n",
    "4. **Built-in** — Встроенная область видимости. Встроенные функции и исключения.\n",
    "\n",
    "#### Пример\n",
    "\n",
    "```python\n",
    "# Встроенное пространство имен\n",
    "print(len([1, 2, 3]))  # Встроенная функция len\n",
    "\n",
    "# Глобальное пространство имен\n",
    "x = 10\n",
    "\n",
    "def outer_function():\n",
    "    # Закрывающая область видимости\n",
    "    y = 20\n",
    "    \n",
    "    def inner_function():\n",
    "        # Локальная область видимости\n",
    "        z = 30\n",
    "        print(x, y, z)  # Доступ ко всем уровням области видимости\n",
    "    \n",
    "    inner_function()\n",
    "\n",
    "outer_function()\n",
    "```\n",
    "\n",
    "В этом примере `x` — это глобальная переменная, `y` — переменная из закрывающей области видимости, а `z` — локальная переменная функции `inner_function`.\n",
    "\n",
    "#### Управление пространствами имен\n",
    "\n",
    "- Для изменения глобальных переменных внутри функций используется ключевое слово `global`.\n",
    "- Для изменения переменных из закрывающей области видимости используется ключевое слово `nonlocal`.\n",
    "\n",
    "```python\n",
    "x = 10\n",
    "\n",
    "def modify_global():\n",
    "    global x\n",
    "    x = 20\n",
    "\n",
    "modify_global()\n",
    "print(x)  # 20\n",
    "\n",
    "def outer_function():\n",
    "    y = 20\n",
    "    \n",
    "    def modify_nonlocal():\n",
    "        nonlocal y\n",
    "        y = 30\n",
    "    \n",
    "    modify_nonlocal()\n",
    "    print(y)  # 30\n",
    "\n",
    "outer_function()\n",
    "```\n",
    "\n",
    "Использование пространств имен помогает поддерживать чистоту и организованность кода, предотвращает конфликты имен и делает программы более понятными и поддерживаемыми."
   ]
  },
  {
   "cell_type": "code",
   "execution_count": null,
   "id": "b6bcda78-eded-4f0f-a75e-0c9310c4edc3",
   "metadata": {},
   "outputs": [],
   "source": []
  },
  {
   "cell_type": "code",
   "execution_count": null,
   "id": "ad57322b-b4b7-4b68-ae78-4430cacf206b",
   "metadata": {},
   "outputs": [],
   "source": []
  },
  {
   "cell_type": "code",
   "execution_count": null,
   "id": "d5f25838-0c98-4a49-a2a2-02bf1a26cdb4",
   "metadata": {},
   "outputs": [],
   "source": []
  },
  {
   "cell_type": "code",
   "execution_count": null,
   "id": "5550a81f-0fd6-48ec-8e98-54a1d5e660ae",
   "metadata": {},
   "outputs": [],
   "source": []
  }
 ],
 "metadata": {
  "kernelspec": {
   "display_name": "Python 3 (ipykernel)",
   "language": "python",
   "name": "python3"
  },
  "language_info": {
   "codemirror_mode": {
    "name": "ipython",
    "version": 3
   },
   "file_extension": ".py",
   "mimetype": "text/x-python",
   "name": "python",
   "nbconvert_exporter": "python",
   "pygments_lexer": "ipython3",
   "version": "3.11.8"
  }
 },
 "nbformat": 4,
 "nbformat_minor": 5
}
