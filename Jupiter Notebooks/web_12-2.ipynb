{
 "cells": [
  {
   "cell_type": "markdown",
   "id": "30b5c021-19ee-4b1d-bc3f-0e92dfbb2af1",
   "metadata": {},
   "source": [
    "# Модуль №12. Поддержка цикла разработки (часть 2)\n",
    "# Логгирование"
   ]
  },
  {
   "cell_type": "markdown",
   "id": "e791df13-24cb-4aeb-8506-a63e6935ffc5",
   "metadata": {},
   "source": [
    "[Документация](https://docs.python.org/3/library/logging.html)"
   ]
  },
  {
   "cell_type": "markdown",
   "id": "ad115f66-14d3-458c-874a-4975f6950ab8",
   "metadata": {},
   "source": [
    " "
   ]
  },
  {
   "cell_type": "markdown",
   "id": "ac7f8604-78df-42b0-b242-3e0f7f96e52f",
   "metadata": {},
   "source": [
    "## Зачем нужно логгирование? "
   ]
  },
  {
   "cell_type": "markdown",
   "id": "d7cf6e1d-f3f2-4c8c-8808-35613e5e439b",
   "metadata": {},
   "source": [
    "- **Отладка и диагностика:** Если в программе возникает ошибка, логирование позволяет определить, на каком этапе возникла проблема и какие условия привели к ошибке.\n",
    "\n",
    "- **Мониторинг и аналитика:** Логирование времени выполнения определенных операций помогает выявить узкие места в производительности приложения.\n",
    "\n",
    "- **Аудит и безопасность:** Логи входов в систему и неудачных попыток аутентификации могут помочь в расследовании инцидентов безопасности.\n",
    "\n",
    "- **Документация и анализ изменений:** В системах управления версиями логи могут использоваться для отслеживания изменений в конфигурациях и их последствий.\n",
    "\n",
    "- **Поддержка и обслуживание:** Если пользователь сообщает о проблеме с приложением, поддерживающая команда может запросить логи для анализа и быстрого решения проблемы.\n",
    "\n",
    "- **Отчеты и оповещения:** Логи могут быть настроены так, чтобы отправлять уведомление по электронной почте, если зафиксировано превышение допустимого уровня ошибок.\n",
    "\n",
    "- **Историческая информация:** Анализ логов за последние несколько месяцев может выявить тенденции в поведении системы и помочь в ее оптимизации."
   ]
  },
  {
   "cell_type": "markdown",
   "id": "a1a8bd83-4324-4f16-a54a-e08120be60db",
   "metadata": {},
   "source": [
    " "
   ]
  },
  {
   "cell_type": "markdown",
   "id": "6c0386fb-ee8c-456a-9745-f6e16af27dda",
   "metadata": {},
   "source": [
    "## Как выглядит структура проекта? "
   ]
  },
  {
   "cell_type": "raw",
   "id": "3fbccbd9-afd6-45a5-835e-8d3c9d6f5645",
   "metadata": {},
   "source": [
    "my_project/\n",
    "│\n",
    "├── config/\n",
    "│   └── logging.conf        # Конфигурационный файл для логирования (если используется)\n",
    "│\n",
    "├── logs/\n",
    "│   └── app.log             # Лог-файлы\n",
    "│\n",
    "├── src/                    # Основной код проекта\n",
    "│   ├── __init__.py\n",
    "│   ├── main.py             # Основной запуск программы\n",
    "│   ├── module_a.py         # Модуль A\n",
    "│   ├── module_b.py         # Модуль B\n",
    "│   └── utils/\n",
    "│       ├── __init__.py\n",
    "│       └── logger.py       # Модуль для создания и настройки логгера\n",
    "│\n",
    "├── tests/                  # Тесты\n",
    "│   ├── __init__.py\n",
    "│   ├── test_module_a.py    # Тесты для модуля A\n",
    "│   └── test_module_b.py    # Тесты для модуля B\n",
    "│\n",
    "├── requirements.txt        # Зависимости проекта\n",
    "└── README.md               # Описание проекта"
   ]
  },
  {
   "cell_type": "markdown",
   "id": "cd014134-d887-4e27-a769-c5a392071aca",
   "metadata": {},
   "source": [
    " "
   ]
  },
  {
   "cell_type": "markdown",
   "id": "22983f42-ec8a-42aa-82aa-28422a653492",
   "metadata": {},
   "source": [
    "## Характеристики уровней логирования"
   ]
  },
  {
   "cell_type": "markdown",
   "id": "c65af5dd-4698-4595-b288-75dbc9c19f8e",
   "metadata": {},
   "source": [
    "- **Debug (10):** самый низкий уровень логирования, предназначенный для отладочных сообщений, для вывода диагностической информации о приложении.\n",
    "  \n",
    "- **Info (20):** этот уровень предназначен для вывода данных о фрагментах кода, работающих так, как ожидается.\n",
    "\n",
    "- **Warning (30):** этот уровень логирования предусматривает вывод предупреждений, он применяется для записи сведений о событиях, на которые программист обычно обращает внимание. Такие события вполне могут привести к проблемам при работе приложения. Если явно не задать уровень логирования — по умолчанию используется именно warning.\n",
    "\n",
    "- **Error (40):** этот уровень логирования предусматривает вывод сведений об ошибках — о том, что часть приложения работает не так как ожидается, о том, что программа не смогла правильно выполниться.\n",
    "\n",
    "- **Critical (50):** этот уровень используется для вывода сведений об очень серьёзных ошибках, наличие которых угрожает нормальному функционированию всего приложения. Если не исправить такую ошибку — это может привести к тому, что приложение прекратит работу."
   ]
  },
  {
   "cell_type": "code",
   "execution_count": 3,
   "id": "bee8fcc1-7fa7-4b6d-b806-fab96fb32765",
   "metadata": {},
   "outputs": [
    {
     "name": "stderr",
     "output_type": "stream",
     "text": [
      "INFO:root:Это информационное сообщение\n",
      "WARNING:root:Это предупреждение\n",
      "ERROR:root:Это сообщение об ошибке\n",
      "CRITICAL:root:Это сообщение о критической ошибке\n"
     ]
    }
   ],
   "source": [
    "import logging \n",
    "\n",
    "# Чтобы не засорять логи лишней информацией, \n",
    "# мы можем указать минимальный уровень фиксируемых событий\n",
    "logging.basicConfig(level=logging.INFO)\n",
    "\n",
    "\n",
    "# logging.<level>(<message>) \n",
    "\n",
    "logging.debug(\"Это сообщение для отладки\") \n",
    "logging.info('Это информационное сообщение')\n",
    "logging.warning('Это предупреждение')\n",
    "logging.error('Это сообщение об ошибке')\n",
    "logging.critical(\"Это сообщение о критической ошибке\")\n"
   ]
  },
  {
   "cell_type": "markdown",
   "id": "2734c8c8-1ec6-49ff-9e41-e89538e811ac",
   "metadata": {},
   "source": [
    " "
   ]
  },
  {
   "cell_type": "markdown",
   "id": "c3289bfc-db9c-4ce5-bbb9-51ef02a60341",
   "metadata": {},
   "source": [
    "## Настройка логирования"
   ]
  },
  {
   "cell_type": "markdown",
   "id": "34ff9ede-6ac5-47ed-abe4-3fb6b50a613a",
   "metadata": {},
   "source": [
    "- **level:** это — уровень, на котором нужно начинать логирование. Если он установлен в info — это значит, что все сообщения с уровнем debug игнорируются.\n",
    "\n",
    "- **filename:** этот параметр указывает на объект обработчика файла. Тут можно указать имя файла, в который нужно осуществлять логирование.\n",
    "\n",
    "- **filemode:** это — необязательный параметр, указывающий режим, в котором предполагается работать с файлом журнала, заданным параметром filename. Установка filemode в значение w (write, запись) приводит к тому, что логи перезаписываются при каждом запуске модуля. По умолчанию параметр filemode установлен в значение a (append, присоединение), то есть — в файл будут попадать записи из всех сеансов работы программы."
   ]
  },
  {
   "cell_type": "code",
   "execution_count": 2,
   "id": "20df5053-9e5a-4a39-854d-5ac904fb90d8",
   "metadata": {},
   "outputs": [
    {
     "name": "stderr",
     "output_type": "stream",
     "text": [
      "INFO:root:Это информационное сообщение\n",
      "WARNING:root:Это предупреждение\n",
      "ERROR:root:Это сообщение об ошибке\n",
      "CRITICAL:root:Это сообщение о критической ошибке\n"
     ]
    }
   ],
   "source": [
    "import logging \n",
    "\n",
    "logging.basicConfig(\n",
    "    level=logging.INFO, \n",
    "    filename=\"py.log\",\n",
    "    filemode=\"w\",\n",
    "    format=\"%(asctime)s %(levelname)s %(message)s\"\n",
    ")\n",
    "\n",
    "logging.debug(\"Это сообщение для отладки\") \n",
    "logging.info('Это информационное сообщение')\n",
    "logging.warning('Это предупреждение')\n",
    "logging.error('Это сообщение об ошибке')\n",
    "logging.critical(\"Это сообщение о критической ошибке\")"
   ]
  },
  {
   "cell_type": "markdown",
   "id": "94c4f815-b82c-4454-8d81-404d6387f312",
   "metadata": {},
   "source": [
    " "
   ]
  },
  {
   "cell_type": "markdown",
   "id": "fe1ffd78-da62-42ee-b6cd-113c4947c9db",
   "metadata": {},
   "source": [
    "## Основные концепции"
   ]
  },
  {
   "cell_type": "markdown",
   "id": "990d6316-696e-45e1-8758-694ed9c521e2",
   "metadata": {},
   "source": [
    "- **Логгер (Logger):** объект, с помощью которого создаются записи лога.\n",
    "- **Обработчик (Handler):** определяет, куда отправлять лог-сообщения (консоль, файл и т.д.).\n",
    "- **Форматтер (Formatter):** определяет формат вывода логов.\n",
    "- **Уровни логирования:** DEBUG, INFO, WARNING, ERROR, CRITICAL."
   ]
  },
  {
   "cell_type": "markdown",
   "id": "0a0545c7-a1a0-4915-843d-20c777f89e1d",
   "metadata": {},
   "source": [
    " "
   ]
  },
  {
   "cell_type": "markdown",
   "id": "9f435c47-a140-47d4-8382-c32dd7f9cc79",
   "metadata": {},
   "source": [
    "## Создание собственного логгера"
   ]
  },
  {
   "cell_type": "markdown",
   "id": "bbba94ca-413b-4c1a-961d-76047180f294",
   "metadata": {},
   "source": [
    "**Логгер** — это основная точка взаимодействия с библиотекой `logging`. Логгер используется для создания и записи сообщений журнала. Чтобы создать собственный логгер, нужно использовать метод `logging.getLogger(name)`.\n"
   ]
  },
  {
   "cell_type": "code",
   "execution_count": 4,
   "id": "5f4ffa5f-f1f1-4dbf-a9bf-80917aaf006e",
   "metadata": {},
   "outputs": [],
   "source": [
    "import logging\n",
    "\n",
    "# Создаем логгер с именем 'my_logger' (чаще используется __name__ - имя модуля)\n",
    "logger = logging.getLogger('my_logger')\n",
    "\n",
    "# Устанавливаем минимальный уровень логирования для логгера\n",
    "logger.setLevel(logging.DEBUG)"
   ]
  },
  {
   "cell_type": "markdown",
   "id": "18f84c19-39eb-4d0d-b607-0bd91fa87ad6",
   "metadata": {},
   "source": [
    " "
   ]
  },
  {
   "cell_type": "markdown",
   "id": "da3ec2c5-913b-420c-aaa1-ecb5c48c4c32",
   "metadata": {},
   "source": [
    "## Добавление обработчиков (Handlers)"
   ]
  },
  {
   "cell_type": "markdown",
   "id": "f1838515-2ab5-40ec-a36b-f7b5bdae2079",
   "metadata": {},
   "source": [
    "**Обработчики (Handlers)** отвечают за отправку лог-сообщений в различные выходные потоки, например, в файл или на консоль. Один логгер может использовать несколько обработчиков одновременно.\n",
    "\n",
    "- **StreamHandler:** Обработчик для вывода логов в стандартный поток вывода, например, консоль.\n",
    "- **FileHandler:** Обработчик для записи логов в файл. Можно указать дополнительные параметры, такие как режим записи ('a' для добавления или 'w' для перезаписи)."
   ]
  },
  {
   "cell_type": "code",
   "execution_count": 9,
   "id": "6009cfce-6e0f-4c7f-ad26-64ce2c8d0663",
   "metadata": {},
   "outputs": [],
   "source": [
    "import logging\n",
    "\n",
    "# Создаем обработчик для вывода логов в консоль\n",
    "console_handler = logging.StreamHandler()\n",
    "\n",
    "# Устанавливаем уровень логирования для консольного обработчика\n",
    "console_handler.setLevel(logging.WARNING)\n",
    "\n",
    "# Создаем обработчик для записи логов в файл\n",
    "file_handler = logging.FileHandler('my_log.log')\n",
    "\n",
    "# Устанавливаем уровень логирования для файлового обработчика\n",
    "file_handler.setLevel(logging.INFO)\n",
    "\n",
    "# Добавляем обработчики к логгеру\n",
    "logger.addHandler(console_handler)\n",
    "logger.addHandler(file_handler)"
   ]
  },
  {
   "cell_type": "markdown",
   "id": "96d94024-be55-4096-9956-335f28438b73",
   "metadata": {},
   "source": [
    " "
   ]
  },
  {
   "cell_type": "markdown",
   "id": "3c3151dc-82fc-4f88-8318-b9ba85e9848a",
   "metadata": {},
   "source": [
    "## Форматирование сообщений (Formatters)"
   ]
  },
  {
   "cell_type": "markdown",
   "id": "97ab2bbf-214f-4ba8-a2e1-6c86f4fad005",
   "metadata": {},
   "source": [
    "**Форматтеры (Formatters)** определяют, как будут выглядеть сообщения в логе. Они задают шаблон, по которому формируются строки с логами.\n",
    "\n",
    "- **`%(asctime)s`**: Время записи сообщения.\n",
    "- **`%(name)s`**: Имя логгера, которое было задано при его создании.\n",
    "- **`%(levelname)s`**: Уровень важности сообщения (например, DEBUG, INFO).\n",
    "- **`%(message)s`**: Само сообщение лога."
   ]
  },
  {
   "cell_type": "code",
   "execution_count": 10,
   "id": "4f66a8dc-c774-4008-bbad-867dfdd4f49b",
   "metadata": {},
   "outputs": [],
   "source": [
    "import logging\n",
    "\n",
    "# Создаем форматтер с заданным форматом\n",
    "formatter = logging.Formatter('%(asctime)s - %(name)s - %(levelname)s - %(message)s')\n",
    "\n",
    "# Привязываем форматтер к обработчикам\n",
    "console_handler.setFormatter(formatter)\n",
    "file_handler.setFormatter(formatter)"
   ]
  },
  {
   "cell_type": "markdown",
   "id": "3267f5e5-c06a-459c-96ef-e3dad25b3070",
   "metadata": {},
   "source": [
    " "
   ]
  },
  {
   "cell_type": "markdown",
   "id": "8321708a-f821-4077-9786-f522bc572f9b",
   "metadata": {},
   "source": [
    "## Пример использования логгера с обработчиками и форматтерами"
   ]
  },
  {
   "cell_type": "code",
   "execution_count": 7,
   "id": "0f3e24ba-2271-4f33-b6ef-e100faad1b3b",
   "metadata": {},
   "outputs": [
    {
     "name": "stderr",
     "output_type": "stream",
     "text": [
      "DEBUG:my_logger:This is a debug message\n",
      "INFO:my_logger:This is an info message\n",
      "2024-08-21 18:51:12,424 - my_logger - WARNING - This is a warning message\n",
      "2024-08-21 18:51:12,424 - my_logger - WARNING - This is a warning message\n",
      "WARNING:my_logger:This is a warning message\n",
      "2024-08-21 18:51:12,425 - my_logger - ERROR - This is an error message\n",
      "2024-08-21 18:51:12,425 - my_logger - ERROR - This is an error message\n",
      "ERROR:my_logger:This is an error message\n",
      "2024-08-21 18:51:12,427 - my_logger - CRITICAL - This is a critical message\n",
      "2024-08-21 18:51:12,427 - my_logger - CRITICAL - This is a critical message\n",
      "CRITICAL:my_logger:This is a critical message\n"
     ]
    }
   ],
   "source": [
    "import logging\n",
    "\n",
    "# Создаем логгер\n",
    "logger = logging.getLogger('my_logger')\n",
    "logger.setLevel(logging.DEBUG)\n",
    "\n",
    "# Создаем обработчики\n",
    "console_handler = logging.StreamHandler()\n",
    "console_handler.setLevel(logging.WARNING)\n",
    "\n",
    "file_handler = logging.FileHandler('my_log.log')\n",
    "file_handler.setLevel(logging.INFO)\n",
    "\n",
    "# Создаем и устанавливаем форматтер\n",
    "formatter = logging.Formatter('%(asctime)s - %(name)s - %(levelname)s - %(message)s')\n",
    "console_handler.setFormatter(formatter)\n",
    "file_handler.setFormatter(formatter)\n",
    "\n",
    "# Добавляем обработчики к логгеру\n",
    "logger.addHandler(console_handler)\n",
    "logger.addHandler(file_handler)\n",
    "\n",
    "# Логируем сообщения разных уровней\n",
    "logger.debug('This is a debug message')\n",
    "logger.info('This is an info message')\n",
    "logger.warning('This is a warning message')\n",
    "logger.error('This is an error message')\n",
    "logger.critical('This is a critical message')\n"
   ]
  },
  {
   "cell_type": "markdown",
   "id": "a45a912a-bc62-4900-a24f-1cae8c3d727a",
   "metadata": {},
   "source": [
    " "
   ]
  },
  {
   "cell_type": "markdown",
   "id": "d3f8b17e-2265-4dbb-8572-14e0d06c5dca",
   "metadata": {},
   "source": [
    "## Фильтры (Filters)\n"
   ]
  },
  {
   "cell_type": "markdown",
   "id": "73e27895-8e66-49d4-ba50-c4be54bfe926",
   "metadata": {},
   "source": [
    "**Фильтры** позволяют настроить более тонкий контроль над тем, какие сообщения логируются. Например, можно логировать сообщения только от определенного модуля или с определенными атрибутами."
   ]
  },
  {
   "cell_type": "code",
   "execution_count": 12,
   "id": "b7c65f6b-eb30-4a69-a9f6-c939a254f11a",
   "metadata": {},
   "outputs": [],
   "source": [
    "import logging\n",
    "\n",
    "class MyFilter(logging.Filter):\n",
    "    def filter(self, record):\n",
    "        # Логировать только если сообщение содержит слово 'important'\n",
    "        return 'important' in record.msg\n",
    "\n",
    "\n",
    "file_handler = logging.FileHandler('my_log.log')\n",
    "\n",
    "# Добавляем фильтр к обработчику\n",
    "file_handler.addFilter(MyFilter())"
   ]
  },
  {
   "cell_type": "markdown",
   "id": "85424ef3-2897-4f8f-bcde-5e51038baa13",
   "metadata": {},
   "source": [
    " "
   ]
  },
  {
   "cell_type": "markdown",
   "id": "716ecbe1-8207-49c8-92e2-e15682d69a7e",
   "metadata": {},
   "source": [
    "## Метод `getChild`"
   ]
  },
  {
   "cell_type": "markdown",
   "id": "6536870c-fb05-4f27-aad0-fdde5777204d",
   "metadata": {},
   "source": [
    "Метод `getChild` в библиотеке `logging` используется для создания дочерних логгеров на основе уже существующего логгера."
   ]
  },
  {
   "cell_type": "markdown",
   "id": "9f97e146-0ef4-4174-9590-a38ffe0ca4a2",
   "metadata": {},
   "source": [
    "Зачем \n",
    "- **Организация иерархии логгеров**: В больших проектах логгеры часто организуются в иерархическую структуру. Это позволяет группировать логи по модулям или компонентам системы. Используя `getChild`, можно создать дочерний логгер, который будет иметь тесную связь с родительским, но при этом работать независимо.\n",
    "- **Гибкость в настройке логирования**: Дочерние логгеры наследуют настройки от родительского логгера, но могут быть дополнительно настроены. Например, можно задать отдельные обработчики или уровни логирования для дочернего логгера.\n",
    "- **Логгирование в контексте конкретного модуля**: Дочерние логгеры обычно именуются на основе родительского логгера, что позволяет легко отслеживать, из какого модуля или компонента пришло сообщение. Это особенно полезно для отладки и анализа логов.\n"
   ]
  },
  {
   "cell_type": "code",
   "execution_count": 14,
   "id": "876e58df-ecae-4836-9d2c-7e24c284d467",
   "metadata": {},
   "outputs": [
    {
     "name": "stderr",
     "output_type": "stream",
     "text": [
      "2024-08-21 00:15:34,512 - app - INFO - Это сообщение от основного логгера\n",
      "INFO:app:Это сообщение от основного логгера\n",
      "2024-08-21 00:15:34,514 - app.module_a - DEBUG - Это сообщение от логгера модуля A\n",
      "DEBUG:app.module_a:Это сообщение от логгера модуля A\n"
     ]
    }
   ],
   "source": [
    "import logging\n",
    "\n",
    "# Основной логгер для приложения\n",
    "main_logger = logging.getLogger('app')\n",
    "main_logger.setLevel(logging.DEBUG)\n",
    "\n",
    "# Обработчик для вывода на консоль\n",
    "console_handler = logging.StreamHandler()\n",
    "console_handler.setLevel(logging.DEBUG)\n",
    "\n",
    "# Форматтер для сообщений\n",
    "formatter = logging.Formatter('%(asctime)s - %(name)s - %(levelname)s - %(message)s')\n",
    "console_handler.setFormatter(formatter)\n",
    "\n",
    "# Добавляем обработчик к основному логгеру\n",
    "main_logger.addHandler(console_handler)\n",
    "\n",
    "# Дочерний логгер для модуля A\n",
    "module_a_logger = main_logger.getChild('module_a')\n",
    "\n",
    "# Логирование сообщений из основного логгера и из дочернего логгера\n",
    "main_logger.info('Это сообщение от основного логгера')\n",
    "module_a_logger.debug('Это сообщение от логгера модуля A')"
   ]
  },
  {
   "cell_type": "markdown",
   "id": "89337b26-b53f-404d-85b6-9a048fd4f0ca",
   "metadata": {},
   "source": [
    " "
   ]
  },
  {
   "cell_type": "markdown",
   "id": "ae91aac3-0fd8-4e13-97d2-469725b61d61",
   "metadata": {},
   "source": [
    "## Настройка через файл конфигурации"
   ]
  },
  {
   "cell_type": "markdown",
   "id": "62cca3b0-db6f-45f8-8f52-4bfa6bcbb0cb",
   "metadata": {},
   "source": [
    "Логирование можно настроить с помощью файлов конфигурации в формате `.ini` или `.yaml`. Это особенно удобно для больших проектов."
   ]
  },
  {
   "cell_type": "markdown",
   "id": "5e92404e-8c18-4c5c-b7c9-0cddbc0c00e9",
   "metadata": {},
   "source": [
    "```ini\n",
    "[loggers]\n",
    "keys=root,my_logger\n",
    "\n",
    "[handlers]\n",
    "keys=consoleHandler,fileHandler\n",
    "\n",
    "[formatters]\n",
    "keys=myFormatter\n",
    "\n",
    "[logger_root]\n",
    "level=DEBUG\n",
    "handlers=consoleHandler\n",
    "\n",
    "[logger_my_logger]\n",
    "level=DEBUG\n",
    "handlers=fileHandler\n",
    "qualname=my_logger\n",
    "\n",
    "[handler_consoleHandler]\n",
    "class=StreamHandler\n",
    "level=WARNING\n",
    "formatter=myFormatter\n",
    "args=(sys.stdout,)\n",
    "\n",
    "[handler_fileHandler]\n",
    "class=FileHandler\n",
    "level=INFO\n",
    "formatter=myFormatter\n",
    "args=('my_log.log', 'a')\n",
    "\n",
    "[formatter_myFormatter]\n",
    "format=%(asctime)s - %(name)s - %(levelname)s - %(message)s\n",
    "```"
   ]
  },
  {
   "cell_type": "markdown",
   "id": "21dcb369-eb53-412e-9406-99d4321e2a46",
   "metadata": {},
   "source": [
    " "
   ]
  },
  {
   "cell_type": "code",
   "execution_count": null,
   "id": "440a08a8-35e6-4b0c-873c-7f0b73e97971",
   "metadata": {
    "scrolled": true
   },
   "outputs": [],
   "source": [
    "import logging\n",
    "import logging.config\n",
    "\n",
    "logging.config.fileConfig('logging.conf')\n",
    "\n",
    "logger = logging.getLogger('my_logger')"
   ]
  },
  {
   "cell_type": "markdown",
   "id": "9c49f9ca-280a-4a0d-ab01-fe8aaeb70f8d",
   "metadata": {},
   "source": [
    " "
   ]
  }
 ],
 "metadata": {
  "kernelspec": {
   "display_name": "Python 3 (ipykernel)",
   "language": "python",
   "name": "python3"
  },
  "language_info": {
   "codemirror_mode": {
    "name": "ipython",
    "version": 3
   },
   "file_extension": ".py",
   "mimetype": "text/x-python",
   "name": "python",
   "nbconvert_exporter": "python",
   "pygments_lexer": "ipython3",
   "version": "3.11.7"
  }
 },
 "nbformat": 4,
 "nbformat_minor": 5
}
